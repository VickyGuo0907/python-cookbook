{
  "nbformat": 4,
  "nbformat_minor": 0,
  "metadata": {
    "language_info": {
      "codemirror_mode": {
        "name": "ipython",
        "version": 3
      },
      "file_extension": ".py",
      "mimetype": "text/x-python",
      "name": "python",
      "nbconvert_exporter": "python",
      "pygments_lexer": "ipython3",
      "version": "3.8.5-final"
    },
    "orig_nbformat": 2,
    "kernelspec": {
      "name": "python3",
      "display_name": "Python 3",
      "language": "python"
    },
    "colab": {
      "name": "chapter4_iterators.ipynb",
      "provenance": []
    }
  },
  "cells": [
    {
      "cell_type": "code",
      "metadata": {
        "id": "cdzVy8zs86KS"
      },
      "source": [
        "# Chapter 4 Iterators and Generators\n",
        "\n",
        "Iteration is one of Python’s strongest features. At a high level, you might simply view iteration as a way to process items in a sequence. \n",
        "\n",
        "## 4.1 Manually Consuming an Iterator\n",
        "\n",
        "To manually consume an iterable, use the **next()** function and write your code to catch the StopIteration exception. "
      ],
      "execution_count": null,
      "outputs": []
    },
    {
      "cell_type": "code",
      "metadata": {
        "id": "rwER_ikM86KW"
      },
      "source": [
        "with open('/etc/passwd') as f:\n",
        "    try:\n",
        "        while True:\n",
        "            line = next(f)\n",
        "            print(line, end='')\n",
        "    except StopIteration:\n",
        "        pass\n"
      ],
      "execution_count": null,
      "outputs": []
    },
    {
      "cell_type": "code",
      "metadata": {
        "id": "FRA8WiFD86KW",
        "outputId": "67aafbaa-91df-4ebc-a53a-ef198dcf5603"
      },
      "source": [
        "items = [1, 2, 3]\n",
        "# Get the iterator\n",
        "it = iter(items)\n",
        "\n",
        "# Run the iterator\n",
        "next(it)\n",
        "\n",
        "next(it)\n",
        "\n",
        "next(it)"
      ],
      "execution_count": null,
      "outputs": [
        {
          "output_type": "execute_result",
          "data": {
            "text/plain": [
              "3"
            ]
          },
          "metadata": {
            "tags": []
          },
          "execution_count": 12
        }
      ]
    },
    {
      "cell_type": "markdown",
      "metadata": {
        "id": "YN2nwK3X86KX"
      },
      "source": [
        "## 4.2 Delegating Iteration\n",
        "\n",
        "Typically, all you need to do is define an **__iter__()** method that delegates iteration to the internally held container."
      ]
    },
    {
      "cell_type": "code",
      "metadata": {
        "id": "J_wxrbAc86KX",
        "outputId": "b83ddefa-f304-41c7-d104-7761a82269a2"
      },
      "source": [
        "class Node:\n",
        "    def __init__(self, value):\n",
        "        self._value = value\n",
        "        self._children = []\n",
        "    \n",
        "    def __repr__(self):\n",
        "        return 'Node({!r})'.format(self._value)\n",
        "    \n",
        "    def add_child(self, node):\n",
        "        self._children.append(node)\n",
        "\n",
        "    def __iter__(self):\n",
        "        return iter(self._children)\n",
        "\n",
        "# Example\n",
        "if __name__ == '__main__':\n",
        "    root = Node(0)\n",
        "    child1 = Node(1)\n",
        "    child2 = Node(2)\n",
        "    root.add_child(child1)\n",
        "    root.add_child(child2)\n",
        "    for ch in root:\n",
        "        print(ch)\n",
        "        \n",
        "    "
      ],
      "execution_count": null,
      "outputs": [
        {
          "output_type": "stream",
          "text": [
            "Node(1)\n",
            "Node(2)\n"
          ],
          "name": "stdout"
        }
      ]
    },
    {
      "cell_type": "markdown",
      "metadata": {
        "id": "ZdFwXgkk86KY"
      },
      "source": [
        "## 4.3 Creating New Iteration Patterns with Generators"
      ]
    },
    {
      "cell_type": "code",
      "metadata": {
        "id": "kemACcwo86KY",
        "outputId": "b03d8fcb-a871-454c-cb01-ff1586ff9419"
      },
      "source": [
        "def frange(start, stop, increment):\n",
        "    x = start\n",
        "    while x < stop:\n",
        "        yield x\n",
        "        x +=increment\n",
        "\n",
        "for n in frange(0, 4, 0.5):\n",
        "    print(n)\n",
        "\n",
        "print(list(frange(0, 1, 0.125)))"
      ],
      "execution_count": null,
      "outputs": [
        {
          "output_type": "stream",
          "text": [
            "0\n",
            "0.5\n",
            "1.0\n",
            "1.5\n",
            "2.0\n",
            "2.5\n",
            "3.0\n",
            "3.5\n",
            "[0, 0.125, 0.25, 0.375, 0.5, 0.625, 0.75, 0.875]\n"
          ],
          "name": "stdout"
        }
      ]
    },
    {
      "cell_type": "code",
      "metadata": {
        "id": "1wDNtuVm86KY",
        "outputId": "42ca715f-3db5-41c6-d184-73d41b78981f"
      },
      "source": [
        "def countdown(n):\n",
        "    print('Starting to count from', n)\n",
        "    while n > 0:\n",
        "        yield n\n",
        "        n -= 1\n",
        "    print('Done!')   \n",
        "\n",
        "# Create the generator, notice no output appears\n",
        "c = countdown(3)\n",
        "next(c)"
      ],
      "execution_count": null,
      "outputs": [
        {
          "output_type": "stream",
          "text": [
            "Starting to count from 3\n"
          ],
          "name": "stdout"
        },
        {
          "output_type": "execute_result",
          "data": {
            "text/plain": [
              "3"
            ]
          },
          "metadata": {
            "tags": []
          },
          "execution_count": 22
        }
      ]
    },
    {
      "cell_type": "markdown",
      "metadata": {
        "id": "2hK8heQq86KY"
      },
      "source": [
        "## 4.4 Implementing the Iterator Protocol\n",
        "\n",
        "By far, the easiest way to implement iteration on an object is to use a generator function."
      ]
    },
    {
      "cell_type": "code",
      "metadata": {
        "id": "MrTNZxpe86KZ",
        "outputId": "ca32bf30-34b4-4520-ace1-31022258b667"
      },
      "source": [
        "class Node:\n",
        "    def __init__(self, value):\n",
        "        self._value = value\n",
        "        self._children = []\n",
        "\n",
        "    def __repr__(self):\n",
        "        return 'Node({!r})'.format(self._value)\n",
        "\n",
        "    def add_child(self, node):\n",
        "        self._children.append(node)\n",
        "\n",
        "    def __iter__(self):\n",
        "        return iter(self._children)\n",
        "\n",
        "    def depth_first(self):\n",
        "        yield self\n",
        "        for c in self:\n",
        "            yield from c.depth_first()\n",
        "\n",
        "# Example\n",
        "if __name__ == '__main__':\n",
        "    root = Node(0)\n",
        "    child1 = Node(1)\n",
        "    child2 = Node(2)\n",
        "    root.add_child(child1)\n",
        "    root.add_child(child2)\n",
        "    child1.add_child(Node(3))\n",
        "    child1.add_child(Node(4))\n",
        "    child2.add_child(Node(5))\n",
        "\n",
        "    for ch in root.depth_first():\n",
        "        print(ch)\n"
      ],
      "execution_count": null,
      "outputs": [
        {
          "output_type": "stream",
          "text": [
            "Node(0)\n",
            "Node(1)\n",
            "Node(3)\n",
            "Node(4)\n",
            "Node(2)\n",
            "Node(5)\n"
          ],
          "name": "stdout"
        }
      ]
    },
    {
      "cell_type": "markdown",
      "metadata": {
        "id": "zWxFTGHz86KZ"
      },
      "source": [
        "## 4.5 Iterating in Reverse\n",
        "\n",
        "Use the built-in **reversed()** function. "
      ]
    },
    {
      "cell_type": "code",
      "metadata": {
        "id": "DwYBcout86KZ",
        "outputId": "7d81f6d2-6e61-4f0d-c00e-7b6948f951c3"
      },
      "source": [
        "a = [1, 2, 3, 4]\n",
        "for x in reversed(a):\n",
        "    print(x)"
      ],
      "execution_count": null,
      "outputs": [
        {
          "output_type": "stream",
          "text": [
            "4\n",
            "3\n",
            "2\n",
            "1\n"
          ],
          "name": "stdout"
        }
      ]
    },
    {
      "cell_type": "code",
      "metadata": {
        "id": "vNmqPMld86KZ"
      },
      "source": [
        "class Countdown:\n",
        "    def __init__(self, start):\n",
        "        self.start = start\n",
        "    \n",
        "    def __iter__(self)：\n",
        "        n = self.start\n",
        "        while n > 0:\n",
        "            yield n\n",
        "            n -= 1\n",
        "\n",
        "    def __reversed__(self):\n",
        "        n = 1\n",
        "        while n <= self.start:\n",
        "            yield n\n",
        "            n += 1"
      ],
      "execution_count": null,
      "outputs": []
    },
    {
      "cell_type": "code",
      "metadata": {
        "id": "u0t7XD8586Ka"
      },
      "source": [
        "## 4.6 Defining Generator Functions with Extra State\n",
        "\n",
        "If you want a generator to expose extra state to the user, don’t forget that you can easily implement it as a class, putting the generator function code in the __iter__() method."
      ],
      "execution_count": null,
      "outputs": []
    },
    {
      "cell_type": "code",
      "metadata": {
        "id": "7ymZJ4uu86Ka",
        "outputId": "637d6ec1-817c-47e4-b1d3-041a9fd0dfbc"
      },
      "source": [
        "from collections import deque\n",
        "\n",
        "class linehistory:\n",
        "    def __init__(self, lines, hislen=3):\n",
        "        self.lines = lines\n",
        "        self.history = deque(maxlen=hislen)\n",
        "    \n",
        "    def __iter__(self):\n",
        "        for lineno, line in enumerate(self.lines, 1):\n",
        "            self.history.append((lineno, line))\n",
        "            yield line\n",
        "    \n",
        "    def clear(self):\n",
        "        self.history.clear()\n",
        "    \n",
        "f = open('sample.txt')\n",
        "lines= linehistory(f)\n",
        "    \n",
        "it = iter(lines)\n",
        "next(it)\n",
        "next(it)"
      ],
      "execution_count": null,
      "outputs": [
        {
          "output_type": "execute_result",
          "data": {
            "text/plain": [
              "'this is a test'"
            ]
          },
          "metadata": {
            "tags": []
          },
          "execution_count": 30
        }
      ]
    },
    {
      "cell_type": "markdown",
      "metadata": {
        "id": "al0oqYJG86Ka"
      },
      "source": [
        "## 4.7 Taking a Slice of an Iterator\n",
        "\n",
        "The **itertools.islice()** function is perfectly suited for taking slices of iterators and generators."
      ]
    },
    {
      "cell_type": "code",
      "metadata": {
        "id": "oCPw70D486Ka",
        "outputId": "be497176-c39f-4bdf-9630-639e84d3ebce"
      },
      "source": [
        "import itertools\n",
        "for x in itertools.islice(c, 10, 20):\n",
        "    print(x)"
      ],
      "execution_count": null,
      "outputs": [
        {
          "output_type": "stream",
          "text": [
            "10\n",
            "11\n",
            "12\n",
            "13\n",
            "14\n",
            "15\n",
            "16\n",
            "17\n",
            "18\n",
            "19\n"
          ],
          "name": "stdout"
        }
      ]
    },
    {
      "cell_type": "markdown",
      "metadata": {
        "id": "CBti7qLT86Kb"
      },
      "source": [
        "## 4.8 Skipping the First Part of an iterable\n",
        "\n",
        "The itertools module has a few functions that can be used to address this task. The first is the **itertools.dropwhile()** function. "
      ]
    },
    {
      "cell_type": "code",
      "metadata": {
        "id": "NO_xYUHS86Kb"
      },
      "source": [
        "from itertools import dropwhile\n",
        "with open('/etc/passwd') as f:\n",
        "    for line in dropwhile(lambda line: line.startswith('#'), f):\n",
        "        print(line, end='')"
      ],
      "execution_count": null,
      "outputs": []
    },
    {
      "cell_type": "code",
      "metadata": {
        "id": "AlVTcu1k86Kb",
        "outputId": "706ec67a-159f-4b20-a4b5-abad71fe7717"
      },
      "source": [
        "from itertools import islice\n",
        "items = ['a', 'b', 'c', 1, 4, 10, 15]\n",
        "for x in islice(items, 3, None):\n",
        "    print(x)"
      ],
      "execution_count": null,
      "outputs": [
        {
          "output_type": "stream",
          "text": [
            "1\n",
            "4\n",
            "10\n",
            "15\n"
          ],
          "name": "stdout"
        }
      ]
    },
    {
      "cell_type": "markdown",
      "metadata": {
        "id": "6rgfB29f86Kb"
      },
      "source": [
        "## 4.9  Iterating Over All Possible Combinations or Permutations\n",
        "\n",
        "The itertools module provides three functions for this task. The first of these **iter tools.permutations()**takes a collection of items and produces a sequence of tuples that rearranges all of the items into all possible permutations (i.e., it shuffles them into all possible configurations). "
      ]
    },
    {
      "cell_type": "code",
      "metadata": {
        "id": "9rZCbP3z86Kb",
        "outputId": "e1e0478f-689c-4239-f042-7ddaad53b9f7"
      },
      "source": [
        "items = ['a', 'b', 'c']\n",
        "from itertools import permutations\n",
        "\n",
        "for p in permutations(items):\n",
        "    print(p)\n",
        "\n",
        "for p in permutations(items, 2):\n",
        "    print(p)\n",
        "\n",
        "from itertools import combinations, combinations_with_replacement\n",
        "for c in combinations(items, 3):\n",
        "    print(c)\n",
        "\n",
        "for c in combinations(items, 2):\n",
        "    print(c)\n",
        "\n",
        "for c in combinations(items, 1):\n",
        "    print(c)\n",
        "\n",
        "for c in combinations_with_replacement(items, 3):\n",
        "    print(c)"
      ],
      "execution_count": null,
      "outputs": [
        {
          "output_type": "stream",
          "text": [
            "('a', 'b', 'c')\n",
            "('a', 'c', 'b')\n",
            "('b', 'a', 'c')\n",
            "('b', 'c', 'a')\n",
            "('c', 'a', 'b')\n",
            "('c', 'b', 'a')\n",
            "('a', 'b')\n",
            "('a', 'c')\n",
            "('b', 'a')\n",
            "('b', 'c')\n",
            "('c', 'a')\n",
            "('c', 'b')\n",
            "('a', 'b', 'c')\n",
            "('a', 'b')\n",
            "('a', 'c')\n",
            "('b', 'c')\n",
            "('a',)\n",
            "('b',)\n",
            "('c',)\n",
            "('a', 'a', 'a')\n",
            "('a', 'a', 'b')\n",
            "('a', 'a', 'c')\n",
            "('a', 'b', 'b')\n",
            "('a', 'b', 'c')\n",
            "('a', 'c', 'c')\n",
            "('b', 'b', 'b')\n",
            "('b', 'b', 'c')\n",
            "('b', 'c', 'c')\n",
            "('c', 'c', 'c')\n"
          ],
          "name": "stdout"
        }
      ]
    },
    {
      "cell_type": "markdown",
      "metadata": {
        "id": "SWjUIr5l86Kc"
      },
      "source": [
        "## 4.10 Iterating Over the Index-Value Paris of a Sequence\n",
        "\n"
      ]
    },
    {
      "cell_type": "code",
      "metadata": {
        "id": "95x3SZTk86Kc",
        "outputId": "0e4650ca-8a8a-4f9d-b4fe-14d5a3eac1bc"
      },
      "source": [
        "my_list = ['a', 'b', 'c']\n",
        "\n",
        "for idx, val in enumerate(my_list):\n",
        "    print(idx, val)\n",
        "\n",
        "for idx, val in enumerate(my_list, 1):\n",
        "    print(idx, val)"
      ],
      "execution_count": null,
      "outputs": [
        {
          "output_type": "stream",
          "text": [
            "0 a\n",
            "1 b\n",
            "2 c\n",
            "1 a\n",
            "2 b\n",
            "3 c\n"
          ],
          "name": "stdout"
        }
      ]
    },
    {
      "cell_type": "code",
      "metadata": {
        "id": "mzb7inht86Kc",
        "outputId": "c895a314-20c3-4678-b0a1-1a437cac1c47"
      },
      "source": [
        "from collections import defaultdict\n",
        "\n",
        "word_summary = defaultdict(list)\n",
        "\n",
        "with open('sample.txt', 'r') as f:\n",
        "    lines = f.readlines()\n",
        "\n",
        "for idx, line in enumerate(lines):\n",
        "    # Create a list of words in current line\n",
        "    words = [w.strip().lower() for w in line.split()]\n",
        "    for word in words:\n",
        "        word_summary[word].append(idx)\n",
        "\n",
        "print(word_summary)"
      ],
      "execution_count": null,
      "outputs": [
        {
          "output_type": "stream",
          "text": [
            "defaultdict(<class 'list'>, {'hello': [0], 'world': [0], 'this': [1], 'is': [1], 'a': [1], 'test': [1]})\n"
          ],
          "name": "stdout"
        }
      ]
    },
    {
      "cell_type": "code",
      "metadata": {
        "id": "sDMhE8q486Kc",
        "outputId": "f3590de8-11a7-4a50-c35d-d67bded0437a"
      },
      "source": [
        "data = [(1,2), (3,4), (5,6), (7,8)]\n",
        "\n",
        "for n, (x, y) in enumerate(data):\n",
        "    print(\"{}: ({}, {})\".format(n, x, y))"
      ],
      "execution_count": null,
      "outputs": [
        {
          "output_type": "stream",
          "text": [
            "0: (1, 2)\n",
            "1: (3, 4)\n",
            "2: (5, 6)\n",
            "3: (7, 8)\n"
          ],
          "name": "stdout"
        }
      ]
    },
    {
      "cell_type": "markdown",
      "metadata": {
        "id": "I8HhGDQ_86Kd"
      },
      "source": [
        "## 4.11 Iterating Over Multiple Sequences Simultaneously\n",
        "\n",
        "To iterate over more than one sequence simultaneously, use the **zip()** function."
      ]
    },
    {
      "cell_type": "code",
      "metadata": {
        "id": "gA974R0286Kd",
        "colab": {
          "base_uri": "https://localhost:8080/"
        },
        "outputId": "0e1acad0-2fd0-4c15-c1f9-0005844f34de"
      },
      "source": [
        "xpts = [1, 5, 4, 2, 10, 7]\n",
        "ypts = [101, 78, 37, 15, 62, 99]\n",
        "\n",
        "for x, y in zip(xpts, ypts):\n",
        "    print(x, y)\n",
        "\n",
        "a = [1, 2, 3]\n",
        "b = ['w', 'x', 'y', 'z']\n",
        "for i in zip(a, b):\n",
        "    print(i)\n",
        "\n",
        "from itertools import zip_longest\n",
        "for  i in zip_longest(a, b, fillvalue=0):\n",
        "    print(i)"
      ],
      "execution_count": 1,
      "outputs": [
        {
          "output_type": "stream",
          "text": [
            "1 101\n",
            "5 78\n",
            "4 37\n",
            "2 15\n",
            "10 62\n",
            "7 99\n",
            "(1, 'w')\n",
            "(2, 'x')\n",
            "(3, 'y')\n",
            "(1, 'w')\n",
            "(2, 'x')\n",
            "(3, 'y')\n",
            "(0, 'z')\n"
          ],
          "name": "stdout"
        }
      ]
    },
    {
      "cell_type": "code",
      "metadata": {
        "id": "iIySS02086Kd",
        "colab": {
          "base_uri": "https://localhost:8080/"
        },
        "outputId": "87f9b820-d3d3-4c13-cb04-16cc9d8b07b4"
      },
      "source": [
        "headers = ['name', 'shares', 'price']\n",
        "values = ['ACME', 100, 490.1]\n",
        "\n",
        "for name, val in zip(headers, values):\n",
        "    print(name,'=', val)"
      ],
      "execution_count": 2,
      "outputs": [
        {
          "output_type": "stream",
          "text": [
            "name = ACME\n",
            "shares = 100\n",
            "price = 490.1\n"
          ],
          "name": "stdout"
        }
      ]
    },
    {
      "cell_type": "code",
      "metadata": {
        "id": "tnlzzony86Kd",
        "colab": {
          "base_uri": "https://localhost:8080/"
        },
        "outputId": "088d9093-6f3f-4c38-fcf3-c78050b213b5"
      },
      "source": [
        "a = [1, 2, 3]\n",
        "b = [10, 11, 12]\n",
        "c = ['x', 'y', 'z']\n",
        "for i in zip(a, b, c):\n",
        "    print(i)\n",
        "\n",
        "# store into a list\n",
        "print(list(zip(a,b)))"
      ],
      "execution_count": null,
      "outputs": [
        {
          "output_type": "stream",
          "text": [
            "(1, 10, 'x')\n",
            "(2, 11, 'y')\n",
            "(3, 12, 'z')\n",
            "[(1, 10), (2, 11), (3, 12)]\n"
          ],
          "name": "stdout"
        }
      ]
    },
    {
      "cell_type": "markdown",
      "metadata": {
        "id": "xkjBqV8wdsNa"
      },
      "source": [
        "## 4.12 Iterating on Items in Separate Containers\n",
        "\n",
        "The **itertools.chain()** method can be used to simplify this task. It takes a list of iterables as input, \n",
        "and returns an iterator that effectively masks the fact that you’re really acting on multiple containers."
      ]
    },
    {
      "cell_type": "code",
      "metadata": {
        "colab": {
          "base_uri": "https://localhost:8080/"
        },
        "id": "n_l3wLzbcSyN",
        "outputId": "db50a771-e6ff-4a44-9968-bbf2cd09cc47"
      },
      "source": [
        "from itertools import chain\n",
        "a = [1, 2, 3, 4]\n",
        "b = ['x', 'y', 'z']\n",
        "for x in chain(a, b):\n",
        "  print(x)"
      ],
      "execution_count": 3,
      "outputs": [
        {
          "output_type": "stream",
          "text": [
            "1\n",
            "2\n",
            "3\n",
            "4\n",
            "x\n",
            "y\n",
            "z\n"
          ],
          "name": "stdout"
        }
      ]
    },
    {
      "cell_type": "markdown",
      "metadata": {
        "id": "6M2HUl1rdiWq"
      },
      "source": [
        "## 4.13 Creating Data Processing Pipelines\n",
        "Generator functions are a good way to implement processing pipelines. To illustrate, suppose you have a huge directory of log files that you want to process:\n",
        "        \n",
        "        \n",
        "        foo/\n",
        "           access-log-012007.gz\n",
        "           access-log-022007.gz\n",
        "           access-log-032007.gz\n",
        "           ...\n",
        "           access-log-012008\n",
        "        bar/\n",
        "           access-log-092007.bz2\n",
        "           ...\n",
        "           access-log-022008"
      ]
    },
    {
      "cell_type": "code",
      "metadata": {
        "colab": {
          "base_uri": "https://localhost:8080/"
        },
        "id": "-33454nTe1lw",
        "outputId": "cb316aca-e0cc-4a18-a835-2f9c5cc22c20"
      },
      "source": [
        "import os\n",
        "import fnmatch\n",
        "import gzip\n",
        "import bz2\n",
        "import re\n",
        "\n",
        "def gen_find(filepat, top):\n",
        "  ''' \n",
        "  Find all filenames in a directory tree that match a shell wildcard pattern\n",
        "  '''\n",
        "  for path, dirlist, filelist in os.walk(top):\n",
        "    for name in fnmatch.filter(filelist, filepat):\n",
        "      yield os.path.join(path, name)\n",
        "\n",
        "\n",
        "def gen_opener(filenames):\n",
        "  '''\n",
        "  Open a sequence of filenames one at a time producing a file object. \n",
        "  The file is closed immediately when proceeding to the next iteration.\n",
        "  '''\n",
        "  for filename in filenames:\n",
        "    if filename.endswith('.gz'):\n",
        "      f = gzip.open(filename, 'rt')\n",
        "    elif filename.endswith('.bz2'):\n",
        "      f = bz2.open(filename, 'rt')\n",
        "    else:\n",
        "      f = open(filename, 'rt')\n",
        "    yield f\n",
        "    f.close()\n",
        "\n",
        "def gen_concatenate(iterators):\n",
        "  '''\n",
        "  Chain a sequence of iterators together into a single sequence. \n",
        "  '''\n",
        "  for it in iterators:\n",
        "    yield from iter\n",
        "\n",
        "def gen_grep(pattern, lines):\n",
        "  '''\n",
        "  Look for a regex pattern in a sequence of lines \n",
        "  '''\n",
        "  pat = re.compile(pattern)\n",
        "  for line in lines:\n",
        "    if pat.search(line): \n",
        "      yield line\n",
        "\n",
        "\n",
        "lognames = gen_find('access-log*', 'www')\n",
        "files = gen_opener(lognames)\n",
        "lines = gen_concatenate(files)\n",
        "pylines = gen_grep('(?i)python', lines)\n",
        "bytecolumn = (line.rsplit(None,1)[1] for line in pylines) \n",
        "bytes = (int(x) for x in bytecolumn if x != '-') \n",
        "print('Total', sum(bytes))"
      ],
      "execution_count": 4,
      "outputs": [
        {
          "output_type": "stream",
          "text": [
            "Total 0\n"
          ],
          "name": "stdout"
        }
      ]
    },
    {
      "cell_type": "markdown",
      "metadata": {
        "id": "OcEx_O4omp1B"
      },
      "source": [
        "## 4.14 Flattening a Nested Sequence\n",
        "\n",
        "This is easily solved by writing a recursive generator function involving a yield from statement."
      ]
    },
    {
      "cell_type": "code",
      "metadata": {
        "colab": {
          "base_uri": "https://localhost:8080/",
          "height": 368
        },
        "id": "1cB9WMlipL5O",
        "outputId": "d1ed84b2-572d-40db-9cc9-db6eef10120a"
      },
      "source": [
        "from collections import Iterable\n",
        "\n",
        "def flatten(items, ignore_types=(str, bytes)):\n",
        "  for x in items:\n",
        "    if isinstance(x, Iterable) and not isinstance(x, ignore_types):\n",
        "      yield from flatten(x)\n",
        "    else:\n",
        "      yield x\n",
        "\n",
        "items = [1, 2, [3, 4, [5, 6], 7], 8]\n",
        "\n",
        "for x in flatten(items):\n",
        "  print(x)"
      ],
      "execution_count": 14,
      "outputs": [
        {
          "output_type": "stream",
          "text": [
            "1\n",
            "2\n"
          ],
          "name": "stdout"
        },
        {
          "output_type": "error",
          "ename": "TypeError",
          "evalue": "ignored",
          "traceback": [
            "\u001b[0;31m---------------------------------------------------------------------------\u001b[0m",
            "\u001b[0;31mTypeError\u001b[0m                                 Traceback (most recent call last)",
            "\u001b[0;32m<ipython-input-14-fc444700d53f>\u001b[0m in \u001b[0;36m<module>\u001b[0;34m()\u001b[0m\n\u001b[1;32m     10\u001b[0m \u001b[0mitems\u001b[0m \u001b[0;34m=\u001b[0m \u001b[0;34m[\u001b[0m\u001b[0;36m1\u001b[0m\u001b[0;34m,\u001b[0m \u001b[0;36m2\u001b[0m\u001b[0;34m,\u001b[0m \u001b[0;34m[\u001b[0m\u001b[0;36m3\u001b[0m\u001b[0;34m,\u001b[0m \u001b[0;36m4\u001b[0m\u001b[0;34m,\u001b[0m \u001b[0;34m[\u001b[0m\u001b[0;36m5\u001b[0m\u001b[0;34m,\u001b[0m \u001b[0;36m6\u001b[0m\u001b[0;34m]\u001b[0m\u001b[0;34m,\u001b[0m \u001b[0;36m7\u001b[0m\u001b[0;34m]\u001b[0m\u001b[0;34m,\u001b[0m \u001b[0;36m8\u001b[0m\u001b[0;34m]\u001b[0m\u001b[0;34m\u001b[0m\u001b[0;34m\u001b[0m\u001b[0m\n\u001b[1;32m     11\u001b[0m \u001b[0;34m\u001b[0m\u001b[0m\n\u001b[0;32m---> 12\u001b[0;31m \u001b[0;32mfor\u001b[0m \u001b[0mx\u001b[0m \u001b[0;32min\u001b[0m \u001b[0mflatten\u001b[0m\u001b[0;34m(\u001b[0m\u001b[0mitems\u001b[0m\u001b[0;34m)\u001b[0m\u001b[0;34m:\u001b[0m\u001b[0;34m\u001b[0m\u001b[0;34m\u001b[0m\u001b[0m\n\u001b[0m\u001b[1;32m     13\u001b[0m   \u001b[0mprint\u001b[0m\u001b[0;34m(\u001b[0m\u001b[0mx\u001b[0m\u001b[0;34m)\u001b[0m\u001b[0;34m\u001b[0m\u001b[0;34m\u001b[0m\u001b[0m\n",
            "\u001b[0;32m<ipython-input-14-fc444700d53f>\u001b[0m in \u001b[0;36mflatten\u001b[0;34m(items, ignore_types)\u001b[0m\n\u001b[1;32m      3\u001b[0m \u001b[0;32mdef\u001b[0m \u001b[0mflatten\u001b[0m\u001b[0;34m(\u001b[0m\u001b[0mitems\u001b[0m\u001b[0;34m,\u001b[0m \u001b[0mignore_types\u001b[0m\u001b[0;34m=\u001b[0m\u001b[0;34m(\u001b[0m\u001b[0mstr\u001b[0m\u001b[0;34m,\u001b[0m \u001b[0mbytes\u001b[0m\u001b[0;34m)\u001b[0m\u001b[0;34m)\u001b[0m\u001b[0;34m:\u001b[0m\u001b[0;34m\u001b[0m\u001b[0;34m\u001b[0m\u001b[0m\n\u001b[1;32m      4\u001b[0m   \u001b[0;32mfor\u001b[0m \u001b[0mx\u001b[0m \u001b[0;32min\u001b[0m \u001b[0mitems\u001b[0m\u001b[0;34m:\u001b[0m\u001b[0;34m\u001b[0m\u001b[0;34m\u001b[0m\u001b[0m\n\u001b[0;32m----> 5\u001b[0;31m     \u001b[0;32mif\u001b[0m \u001b[0misinstance\u001b[0m\u001b[0;34m(\u001b[0m\u001b[0mx\u001b[0m\u001b[0;34m,\u001b[0m \u001b[0mIterable\u001b[0m\u001b[0;34m)\u001b[0m \u001b[0;32mand\u001b[0m \u001b[0;32mnot\u001b[0m \u001b[0misinstance\u001b[0m\u001b[0;34m(\u001b[0m\u001b[0mx\u001b[0m\u001b[0;34m,\u001b[0m \u001b[0mignore_types\u001b[0m\u001b[0;34m)\u001b[0m\u001b[0;34m:\u001b[0m\u001b[0;34m\u001b[0m\u001b[0;34m\u001b[0m\u001b[0m\n\u001b[0m\u001b[1;32m      6\u001b[0m       \u001b[0;32myield\u001b[0m \u001b[0;32mfrom\u001b[0m \u001b[0mflatten\u001b[0m\u001b[0;34m(\u001b[0m\u001b[0mx\u001b[0m\u001b[0;34m)\u001b[0m\u001b[0;34m\u001b[0m\u001b[0;34m\u001b[0m\u001b[0m\n\u001b[1;32m      7\u001b[0m     \u001b[0;32melse\u001b[0m\u001b[0;34m:\u001b[0m\u001b[0;34m\u001b[0m\u001b[0;34m\u001b[0m\u001b[0m\n",
            "\u001b[0;31mTypeError\u001b[0m: isinstance() arg 2 must be a type or tuple of types"
          ]
        }
      ]
    },
    {
      "cell_type": "markdown",
      "metadata": {
        "id": "pQ9ImvZGsVRW"
      },
      "source": [
        "## 4.15 Iterating in Sorted Order Over Merged Sorted Iterables\n",
        "\n",
        "You have a collection of sorted sequences and you want to iterate over a sorted sequence of them all merged together. The **heapq.merge()** function does exactly what you want."
      ]
    },
    {
      "cell_type": "code",
      "metadata": {
        "id": "wgiwVMfds2OU",
        "outputId": "5368942c-12c0-4ed6-a8df-3dbe0dcfac23",
        "colab": {
          "base_uri": "https://localhost:8080/"
        }
      },
      "source": [
        "import heapq\n",
        "\n",
        "a = [1, 4, 7, 10]\n",
        "b = [2, 5, 6, 11]\n",
        "\n",
        "for c in heapq.merge(a, b):\n",
        "  print(c)"
      ],
      "execution_count": 15,
      "outputs": [
        {
          "output_type": "stream",
          "text": [
            "1\n",
            "2\n",
            "4\n",
            "5\n",
            "6\n",
            "7\n",
            "10\n",
            "11\n"
          ],
          "name": "stdout"
        }
      ]
    },
    {
      "cell_type": "markdown",
      "metadata": {
        "id": "s48uMYv9ubTY"
      },
      "source": [
        "## 4.16 Replacing Infinite while Loops with an Iterator\n"
      ]
    },
    {
      "cell_type": "code",
      "metadata": {
        "id": "1N3cNsMZwcK7",
        "outputId": "b8f96258-9c12-4665-bf41-8b316e810a2f",
        "colab": {
          "base_uri": "https://localhost:8080/"
        }
      },
      "source": [
        "import sys\n",
        "f = open('/etc/passwd')\n",
        "for chunk in iter(lambda: f.read(10), ''):\n",
        "  n = sys.stdout.write(chunk)\n"
      ],
      "execution_count": 16,
      "outputs": [
        {
          "output_type": "stream",
          "text": [
            "root:x:0:0:root:/root:/bin/bash\n",
            "daemon:x:1:1:daemon:/usr/sbin:/usr/sbin/nologin\n",
            "bin:x:2:2:bin:/bin:/usr/sbin/nologin\n",
            "sys:x:3:3:sys:/dev:/usr/sbin/nologin\n",
            "sync:x:4:65534:sync:/bin:/bin/sync\n",
            "games:x:5:60:games:/usr/games:/usr/sbin/nologin\n",
            "man:x:6:12:man:/var/cache/man:/usr/sbin/nologin\n",
            "lp:x:7:7:lp:/var/spool/lpd:/usr/sbin/nologin\n",
            "mail:x:8:8:mail:/var/mail:/usr/sbin/nologin\n",
            "news:x:9:9:news:/var/spool/news:/usr/sbin/nologin\n",
            "uucp:x:10:10:uucp:/var/spool/uucp:/usr/sbin/nologin\n",
            "proxy:x:13:13:proxy:/bin:/usr/sbin/nologin\n",
            "www-data:x:33:33:www-data:/var/www:/usr/sbin/nologin\n",
            "backup:x:34:34:backup:/var/backups:/usr/sbin/nologin\n",
            "list:x:38:38:Mailing List Manager:/var/list:/usr/sbin/nologin\n",
            "irc:x:39:39:ircd:/var/run/ircd:/usr/sbin/nologin\n",
            "gnats:x:41:41:Gnats Bug-Reporting System (admin):/var/lib/gnats:/usr/sbin/nologin\n",
            "nobody:x:65534:65534:nobody:/nonexistent:/usr/sbin/nologin\n",
            "_apt:x:100:65534::/nonexistent:/usr/sbin/nologin\n",
            "systemd-network:x:101:104:systemd Network Management,,,:/run/systemd/netif:/usr/sbin/nologin\n",
            "systemd-resolve:x:102:105:systemd Resolver,,,:/run/systemd/resolve:/usr/sbin/nologin\n",
            "nvidia-persistenced:x:103:106:NVIDIA Persistence Daemon,,,:/nonexistent:/usr/sbin/nologin\n",
            "messagebus:x:104:108::/nonexistent:/usr/sbin/nologin\n"
          ],
          "name": "stdout"
        }
      ]
    }
  ]
}