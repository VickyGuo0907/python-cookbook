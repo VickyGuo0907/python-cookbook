{
 "metadata": {
  "language_info": {
   "codemirror_mode": {
    "name": "ipython",
    "version": 3
   },
   "file_extension": ".py",
   "mimetype": "text/x-python",
   "name": "python",
   "nbconvert_exporter": "python",
   "pygments_lexer": "ipython3",
   "version": "3.9.0-final"
  },
  "orig_nbformat": 2,
  "kernelspec": {
   "name": "python3",
   "display_name": "Python 3",
   "language": "python"
  }
 },
 "nbformat": 4,
 "nbformat_minor": 2,
 "cells": [
  {
   "source": [
    "# Chapter 1. Data Structure and Algorithms\n",
    "\n",
    "## 1.1 Unpacking a Sequence into Separate Variables"
   ],
   "cell_type": "markdown",
   "metadata": {}
  },
  {
   "cell_type": "code",
   "execution_count": 2,
   "metadata": {},
   "outputs": [
    {
     "output_type": "stream",
     "name": "stdout",
     "text": [
      "4\n5\n"
     ]
    }
   ],
   "source": [
    "p = (4, 5)\n",
    "x, y = p\n",
    "\n",
    "print(x)\n",
    "print(y)"
   ]
  },
  {
   "cell_type": "code",
   "execution_count": 3,
   "metadata": {},
   "outputs": [
    {
     "output_type": "stream",
     "name": "stdout",
     "text": [
      "ACME 50 91.1 (2012, 12, 21)\n2012 12 21\n"
     ]
    }
   ],
   "source": [
    "data = ['ACME', 50, 91.1, (2012,12,21)]\n",
    "\n",
    "name, shares, prices, date = data\n",
    "\n",
    "print(name, shares, prices, date)\n",
    "\n",
    "name, shares, prices, (year, month, day) = data\n",
    "\n",
    "print(year, month, day)"
   ]
  },
  {
   "cell_type": "code",
   "execution_count": 4,
   "metadata": {},
   "outputs": [
    {
     "output_type": "stream",
     "name": "stdout",
     "text": [
      "H e l l o\n50 91.1\n"
     ]
    }
   ],
   "source": [
    "s = 'Hello'\n",
    "a, b, c, d, e = s\n",
    "print ( a, b , c, d, e)\n",
    "\n",
    "data = ['ACME', 50, 91.1, (2012,12,21)]\n",
    "\n",
    "_, shares, prices, _ = data\n",
    "\n",
    "print(shares, prices)"
   ]
  },
  {
   "source": [
    "## 1.2  Unpacking Elements from Iterables of Arbitrary Length"
   ],
   "cell_type": "markdown",
   "metadata": {}
  },
  {
   "cell_type": "code",
   "execution_count": 5,
   "metadata": {},
   "outputs": [
    {
     "output_type": "stream",
     "name": "stdout",
     "text": [
      "Dave dave@example.com ['773-555-1212', '847-555-1212']\ntrailing: [10, 8, 7, 1, 9, 5, 10]\ncurrent: 3\n"
     ]
    }
   ],
   "source": [
    "record = ('Dave', 'dave@example.com', '773-555-1212', '847-555-1212')\n",
    "name, email, *phone_numbers = record\n",
    "\n",
    "print(name, email, phone_numbers)\n",
    "\n",
    "*trailing, current = [10, 8, 7, 1, 9, 5, 10, 3]\n",
    "print(\"trailing:\", trailing)\n",
    "print(\"current:\", current)\n",
    "\n",
    "records = [{'foo', 1, 2}, {'bar', 'hello'}, {'foo', 3, 4}]"
   ]
  },
  {
   "cell_type": "code",
   "execution_count": null,
   "metadata": {},
   "outputs": [],
   "source": []
  }
 ]
}