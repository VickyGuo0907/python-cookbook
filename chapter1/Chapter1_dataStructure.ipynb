{
 "metadata": {
  "language_info": {
   "codemirror_mode": {
    "name": "ipython",
    "version": 3
   },
   "file_extension": ".py",
   "mimetype": "text/x-python",
   "name": "python",
   "nbconvert_exporter": "python",
   "pygments_lexer": "ipython3",
   "version": "3.8.5-final"
  },
  "orig_nbformat": 2,
  "kernelspec": {
   "name": "python3",
   "display_name": "Python 3",
   "language": "python"
  }
 },
 "nbformat": 4,
 "nbformat_minor": 2,
 "cells": [
  {
   "source": [
    "# Chapter 1. Data Structure and Algorithms\n",
    "\n",
    "## 1.1 Unpacking a Sequence into Separate Variables"
   ],
   "cell_type": "markdown",
   "metadata": {}
  },
  {
   "cell_type": "code",
   "execution_count": 27,
   "metadata": {},
   "outputs": [
    {
     "output_type": "stream",
     "name": "stdout",
     "text": [
      "4\n5\n"
     ]
    }
   ],
   "source": [
    "p = (4, 5)\n",
    "x, y = p\n",
    "\n",
    "print(x)\n",
    "print(y)"
   ]
  },
  {
   "cell_type": "code",
   "execution_count": 28,
   "metadata": {},
   "outputs": [
    {
     "output_type": "stream",
     "name": "stdout",
     "text": [
      "ACME 50 91.1 (2012, 12, 21)\n2012 12 21\n"
     ]
    }
   ],
   "source": [
    "data = ['ACME', 50, 91.1, (2012,12,21)]\n",
    "\n",
    "name, shares, prices, date = data\n",
    "\n",
    "print(name, shares, prices, date)\n",
    "\n",
    "name, shares, prices, (year, month, day) = data\n",
    "\n",
    "print(year, month, day)"
   ]
  },
  {
   "cell_type": "code",
   "execution_count": 29,
   "metadata": {},
   "outputs": [
    {
     "output_type": "stream",
     "name": "stdout",
     "text": [
      "H e l l o\n50 91.1\n"
     ]
    }
   ],
   "source": [
    "s = 'Hello'\n",
    "a, b, c, d, e = s\n",
    "print ( a, b , c, d, e)\n",
    "\n",
    "data = ['ACME', 50, 91.1, (2012,12,21)]\n",
    "\n",
    "_, shares, prices, _ = data\n",
    "\n",
    "print(shares, prices)"
   ]
  },
  {
   "source": [
    "## 1.2  Unpacking Elements from Iterables of Arbitrary Length"
   ],
   "cell_type": "markdown",
   "metadata": {}
  },
  {
   "cell_type": "code",
   "execution_count": 30,
   "metadata": {},
   "outputs": [
    {
     "output_type": "stream",
     "name": "stdout",
     "text": [
      "Dave dave@example.com ['773-555-1212', '847-555-1212']\ntrailing: [10, 8, 7, 1, 9, 5, 10]\ncurrent: 3\n"
     ]
    }
   ],
   "source": [
    "record = ('Dave', 'dave@example.com', '773-555-1212', '847-555-1212')\n",
    "name, email, *phone_numbers = record\n",
    "\n",
    "print(name, email, phone_numbers)\n",
    "\n",
    "*trailing, current = [10, 8, 7, 1, 9, 5, 10, 3]\n",
    "print(\"trailing:\", trailing)\n",
    "print(\"current:\", current)\n"
   ]
  },
  {
   "cell_type": "code",
   "execution_count": 31,
   "metadata": {},
   "outputs": [
    {
     "output_type": "stream",
     "name": "stdout",
     "text": [
      "bar hello\n"
     ]
    }
   ],
   "source": [
    "records = [{'foo', 1, 2}, {'bar', 'hello'}, {'foo', 3, 4}]\n",
    "\n",
    "def do_foo(x, y):\n",
    "    print('foo', x, y)\n",
    "\n",
    "def do_bar(s):\n",
    "    print('bar', s)\n",
    "\n",
    "for tag, *args in records:\n",
    "    if tag == 'foo':\n",
    "        do_foo(*args)\n",
    "    elif tag == 'bar':\n",
    "        do_bar(*args)"
   ]
  },
  {
   "cell_type": "code",
   "execution_count": 32,
   "metadata": {},
   "outputs": [
    {
     "output_type": "stream",
     "name": "stdout",
     "text": [
      "name: ACME\nyear: 2012\n"
     ]
    }
   ],
   "source": [
    "record = ('ACME', 50 , 123,45, (12, 18, 2012))\n",
    "name, *_, (*_, year) = record\n",
    "print(\"name:\", name)\n",
    "print(\"year:\", year)"
   ]
  },
  {
   "source": [
    "## 1.3 Keeping the Last N Items\n",
    "Keeping a limited history is a perfect use for a **collections.deque**. \n"
   ],
   "cell_type": "markdown",
   "metadata": {}
  },
  {
   "cell_type": "code",
   "execution_count": 33,
   "metadata": {},
   "outputs": [
    {
     "output_type": "stream",
     "name": "stdout",
     "text": [
      "initialize: deque([1, 2, 3], maxlen=3)\nafter append 4: deque([2, 3, 4], maxlen=3)\nafter append 5: deque([3, 4, 5], maxlen=3)\n"
     ]
    }
   ],
   "source": [
    "from collections import deque\n",
    "\n",
    "q  = deque(maxlen=3)\n",
    "q.append(1)\n",
    "q.append(2)\n",
    "q.append(3)\n",
    "print(\"initialize:\", q)\n",
    "\n",
    "q.append(4)\n",
    "print(\"after append 4:\", q)\n",
    "\n",
    "q. append(5)\n",
    "print(\"after append 5:\", q)\n"
   ]
  },
  {
   "cell_type": "code",
   "execution_count": 34,
   "metadata": {},
   "outputs": [
    {
     "output_type": "stream",
     "name": "stdout",
     "text": [
      "Initialize: deque([1, 2, 3])\n",
      "after append 4 from left: deque([4, 1, 2, 3])\n",
      "after pop 1: deque([4, 1, 2])\n",
      "after pop 1 from left: deque([1, 2])\n"
     ]
    }
   ],
   "source": [
    "q = deque()\n",
    "q.append(1)\n",
    "q.append(2)\n",
    "q.append(3)\n",
    "print(\"Initialize:\", q)\n",
    "\n",
    "q.appendleft(4)\n",
    "print(\"after append 4 from left:\", q)\n",
    "\n",
    "q.pop()\n",
    "print(\"after pop 1:\", q)\n",
    "\n",
    "q.popleft()\n",
    "print(\"after pop 1 from left:\", q)"
   ]
  },
  {
   "source": [
    "## 1.4 Finding the Largest or Smallest N Items\n",
    "\n",
    "The heapq module has two functions **nlargest() and nsmallest()** that do exactly what you want. \n"
   ],
   "cell_type": "markdown",
   "metadata": {}
  },
  {
   "cell_type": "code",
   "execution_count": 35,
   "metadata": {},
   "outputs": [
    {
     "output_type": "stream",
     "name": "stdout",
     "text": [
      "3 largest value: [42, 37, 23]\n3 smallest value: [-4, 1, 2]\n"
     ]
    }
   ],
   "source": [
    "import heapq\n",
    "\n",
    "nums = [1, 8 , 2, 23, 7 , -4, 18, 23, 42, 37, 2]\n",
    "print(\"3 largest value:\", heapq.nlargest(3, nums))\n",
    "print(\"3 smallest value:\", heapq.nsmallest(3, nums))\n"
   ]
  },
  {
   "cell_type": "code",
   "execution_count": 36,
   "metadata": {},
   "outputs": [
    {
     "output_type": "stream",
     "name": "stdout",
     "text": [
      "3 cheapest: [{'name': 'YHOO', 'Shares': 45, 'price': 16.35}, {'name': 'FB', 'Shares': 200, 'price': 21.09}, {'name': 'HPQ', 'Shares': 35, 'price': 31.75}]\n3, expensive: [{'name': 'AAPL', 'Shares': 50, 'price': 543.22}, {'name': 'IBM', 'Shares': 100, 'price': 91.1}, {'name': 'ACME', 'Shares': 75, 'price': 91.1}]\n"
     ]
    }
   ],
   "source": [
    "profolio = [\n",
    "    {'name': 'IBM', 'Shares': 100, 'price': 91.1},\n",
    "    {'name': 'AAPL', 'Shares': 50, 'price': 543.22},\n",
    "    {'name': 'FB', 'Shares': 200, 'price': 21.09},\n",
    "    {'name': 'HPQ', 'Shares': 35, 'price': 31.75},\n",
    "    {'name': 'YHOO', 'Shares': 45, 'price': 16.35},\n",
    "    {'name': 'ACME', 'Shares': 75, 'price': 91.1}\n",
    "]\n",
    "cheap = heapq.nsmallest(3, profolio, key=lambda s: s['price'])\n",
    "expensive = heapq.nlargest(3, profolio, key=lambda s: s['price'])\n",
    "\n",
    "print(\"3 cheapest:\", cheap)\n",
    "print(\"3, expensive:\", expensive)"
   ]
  },
  {
   "source": [
    "## 1.5 Implementing a Priority Queue"
   ],
   "cell_type": "markdown",
   "metadata": {}
  },
  {
   "cell_type": "code",
   "execution_count": 37,
   "metadata": {},
   "outputs": [
    {
     "output_type": "stream",
     "name": "stdout",
     "text": [
      "first pop:  Item('bar')\nsecond pop:  Item('spam')\nthird pop:  Item('foo')\nfifth pop:  Item('grok')\n"
     ]
    }
   ],
   "source": [
    "import heapq\n",
    "\n",
    "class PriorityQueue:\n",
    "    def __init__(self):\n",
    "        self._queue = []\n",
    "        self._index = 0\n",
    "    \n",
    "    def push(self, item, priority):\n",
    "        heapq.heappush(self._queue, (-priority, self._index, item))\n",
    "        self._index += 1\n",
    "\n",
    "    def pop(self):\n",
    "        return heapq.heappop(self._queue)[-1]\n",
    "\n",
    "class Item: \n",
    "    def __init__(self, name):\n",
    "        self.name = name\n",
    "    def __repr__(self):\n",
    "        return 'Item({!r})'.format(self.name)\n",
    "\n",
    "q = PriorityQueue()\n",
    "q.push(Item('foo'), 1)\n",
    "q.push(Item('bar'), 5)\n",
    "q.push(Item('spam'), 4)\n",
    "q.push(Item('grok'), 1)\n",
    "\n",
    "print(\"first pop: \", q.pop())\n",
    "print(\"second pop: \", q.pop())\n",
    "print(\"third pop: \", q.pop())\n",
    "print(\"fifth pop: \", q.pop())\n"
   ]
  },
  {
   "source": [
    "## 1.6 Mapping Keys to Multiple Values in a Dictionary\n",
    "A dictionary is a mapping where each key is mapped to a single value. If you want to map keys to multiple values, you need to store the multiple values in another container such as a list or set. \n"
   ],
   "cell_type": "markdown",
   "metadata": {}
  },
  {
   "cell_type": "code",
   "execution_count": 39,
   "metadata": {},
   "outputs": [
    {
     "output_type": "stream",
     "name": "stdout",
     "text": [
      "dictionary with list:  defaultdict(<class 'list'>, {'a': [1, 2], 'b': [4]})\ndictionary with set:  defaultdict(<class 'set'>, {'a': {1, 2}, 'b': {4}})\n"
     ]
    }
   ],
   "source": [
    "dict_1 = {\n",
    "    'a' : [1, 2, 3],\n",
    "    'b' : [4, 5]\n",
    "}\n",
    "\n",
    "dict_2 = {\n",
    "    'a': {1,2,3},\n",
    "    'b': {4,5}\n",
    "}\n",
    "\n",
    "from collections import defaultdict\n",
    "\n",
    "d_1 = defaultdict(list)\n",
    "d_1['a'].append(1)\n",
    "d_1['a'].append(2)\n",
    "d_1['b'].append(4)\n",
    "\n",
    "print(\"dictionary with list: \", d_1)\n",
    "\n",
    "d_2 = defaultdict(set)\n",
    "d_2['a'].add(1)\n",
    "d_2['a'].add(2)\n",
    "d_2['b'].add(4)\n",
    "\n",
    "print(\"dictionary with set: \", d_2)\n"
   ]
  },
  {
   "source": [
    "## 1.7 Keeping Dictionaries in Order\n",
    "\n",
    "To control the order of items in a dictionary, you can use an OrderedDict from the collections module. It exactly preserves the original insertion order of data when iterating.\n"
   ],
   "cell_type": "markdown",
   "metadata": {}
  },
  {
   "cell_type": "code",
   "execution_count": 44,
   "metadata": {},
   "outputs": [
    {
     "output_type": "stream",
     "name": "stdout",
     "text": [
      "foo 1\nbar 2\nspam 3\ngrok 4\n"
     ]
    }
   ],
   "source": [
    "from collections import OrderedDict\n",
    "\n",
    "d = OrderedDict()\n",
    "d['foo'] = 1\n",
    "d['bar'] = 2\n",
    "d['spam'] = 3\n",
    "d['grok'] = 4\n",
    "\n",
    "for key in d:\n",
    "    print(key, d[key])"
   ]
  },
  {
   "cell_type": "code",
   "execution_count": 42,
   "metadata": {},
   "outputs": [
    {
     "output_type": "execute_result",
     "data": {
      "text/plain": [
       "'{\"foo\": 1, \"bar\": 2, \"spam\": 3, \"grok\": 4}'"
      ]
     },
     "metadata": {},
     "execution_count": 42
    }
   ],
   "source": [
    "import json\n",
    "\n",
    "json.dumps(d)"
   ]
  },
  {
   "source": [
    "## 1.8 Calculating with Dictionaries\n",
    "\n"
   ],
   "cell_type": "markdown",
   "metadata": {}
  },
  {
   "cell_type": "code",
   "execution_count": 52,
   "metadata": {},
   "outputs": [
    {
     "output_type": "stream",
     "name": "stdout",
     "text": [
      "min price:  (10.75, 'FB')\nmin whole dictionary(Only show key): AAPL\nmin whole dictionary for values 10.75\nmax price:  (612.78, 'AAPL')\nmax whole dictionary(Only show key): IBM\nmax whole dictionary for values: 10.75\nsorted prices: [(10.75, 'FB'), (37.2, 'HPQ'), (45.23, 'ACME'), (205.55, 'IBM'), (612.78, 'AAPL')]\n"
     ]
    }
   ],
   "source": [
    "prices = {\n",
    "    'ACME': 45.23,\n",
    "    'AAPL': 612.78,\n",
    "    'IBM': 205.55,\n",
    "    'HPQ': 37.20,\n",
    "    'FB':10.75\n",
    "}\n",
    "\n",
    "min_price = min(zip(prices.values(), prices.keys()))\n",
    "print(\"min price: \", min_price)\n",
    "print(\"min whole dictionary(Only show key):\", min(prices))\n",
    "print(\"min whole dictionary for values\", min(prices.values()))\n",
    "\n",
    "max_price = max(zip(prices.values(), prices.keys()))\n",
    "print(\"max price: \", max_price)\n",
    "print(\"max whole dictionary(Only show key):\", max(prices))\n",
    "print(\"max whole dictionary for values:\", min(prices.values()))\n",
    "\n",
    "prices_sorted = sorted(zip(prices.values(), prices.keys()))\n",
    "print(\"sorted prices:\", prices_sorted)\n"
   ]
  },
  {
   "source": [
    "## 1.9 Finding Commonalities in Two Dictionaries\n"
   ],
   "cell_type": "markdown",
   "metadata": {}
  },
  {
   "cell_type": "code",
   "execution_count": 57,
   "metadata": {},
   "outputs": [
    {
     "output_type": "stream",
     "name": "stdout",
     "text": [
      "Find keys in common:  {'y', 'x'}\nFind keys in a that are not in b:  {'z'}\nFind (key, value) pairs in common:  {('y', 2)}\ncreate new dic with old:  {'y': 2, 'x': 1}\n"
     ]
    }
   ],
   "source": [
    "a = {\n",
    "    'x' : 1,\n",
    "    'y' : 2,\n",
    "    'z' : 3\n",
    "}\n",
    "\n",
    "b = {\n",
    "    'w': 10,\n",
    "    'x': 11,\n",
    "    'y': 2\n",
    "}\n",
    "\n",
    "print(\"Find keys in common: \", a.keys() & b.keys())\n",
    "print(\"Find keys in a that are not in b: \", a.keys() - b.keys())\n",
    "print(\"Find (key, value) pairs in common: \", a.items() & b.items())\n",
    "\n",
    "c = { key: a[key] for key in a.keys() - {'z', 'w'}}\n",
    "print(\"create new dic with old: \", c)"
   ]
  },
  {
   "source": [
    "## 1. 10 Removing Duplicates from a Sequence while Maintaining Order\n"
   ],
   "cell_type": "markdown",
   "metadata": {}
  },
  {
   "cell_type": "code",
   "execution_count": 60,
   "metadata": {},
   "outputs": [
    {
     "output_type": "stream",
     "name": "stdout",
     "text": [
      "[1, 5, 2, 9, 10]\n"
     ]
    }
   ],
   "source": [
    "def dedupe(items):\n",
    "    seen = set()\n",
    "    for item in items: \n",
    "        if item not in seen:\n",
    "            yield item\n",
    "            seen.add(item)\n",
    "\n",
    "a = [1, 5, 2, 1, 9, 1, 5, 10]\n",
    "print(list(dedupe(a)))"
   ]
  },
  {
   "cell_type": "code",
   "execution_count": 66,
   "metadata": {},
   "outputs": [
    {
     "output_type": "stream",
     "name": "stdout",
     "text": [
      "key include two:  [{'x': 1, 'y': 2}, {'x': 1, 'y': 3}, {'x': 2, 'y': 4}]\nkey include one:  [{'x': 1, 'y': 2}, {'x': 2, 'y': 4}]\nUse set to remove duplicated:  {1, 2, 5, 9, 10}\n"
     ]
    }
   ],
   "source": [
    "def dedupe(items, key=None):\n",
    "    seen = set()\n",
    "    for item in items:\n",
    "        val = item if key is None else key(item)\n",
    "        if val not in seen: \n",
    "            yield item\n",
    "            seen.add(val)\n",
    "\n",
    "a = [{'x':1, 'y':2}, {'x':1, 'y':3}, {'x':1, 'y':2}, {'x':2, 'y':4}]\n",
    "lst_1 = list(dedupe(a, key=lambda d: (d['x'], d['y'])))\n",
    "print(\"key include two: \", lst_1)\n",
    "\n",
    "lst_2 = list(dedupe(a, key=lambda d: d['x']))\n",
    "print(\"key include one: \", lst_2)\n",
    "\n",
    "a = [1, 5, 2, 9, 1, 5, 10]\n",
    "print(\"Use set to remove duplicated: \", set(a))\n",
    "\n"
   ]
  },
  {
   "source": [
    "## 1. 11 Naming a Slice\n",
    "Suppose you have some code that is pulling specific data fields out of a record string with fixed fields"
   ],
   "cell_type": "markdown",
   "metadata": {}
  },
  {
   "cell_type": "code",
   "execution_count": 68,
   "metadata": {},
   "outputs": [
    {
     "output_type": "stream",
     "name": "stdout",
     "text": [
      "hardcode way:  [2, 3]\nslice way:  [2, 3]\nadd slice items:  [0, 1, 10, 11, 4, 5, 6]\ndelete slice items:  [0, 1, 4, 5, 6]\n"
     ]
    }
   ],
   "source": [
    "items = [0, 1, 2, 3, 4, 5, 6]\n",
    "a = slice(2, 4)\n",
    "\n",
    "print(\"hardcode way: \", items[2:4])\n",
    "print(\"slice way: \", items[a])\n",
    "\n",
    "items[a] = [10, 11]\n",
    "\n",
    "print(\"add slice items: \", items)\n",
    "\n",
    "del items[a]\n",
    "\n",
    "print(\"delete slice items: \", items)\n"
   ]
  },
  {
   "cell_type": "code",
   "execution_count": 72,
   "metadata": {},
   "outputs": [
    {
     "output_type": "stream",
     "name": "stdout",
     "text": [
      "slice start: 10\nslice stop: 50\nslice step: 2\n(10, 10, 2)\n"
     ]
    }
   ],
   "source": [
    "a = slice(10, 50, 2)\n",
    "\n",
    "print(\"slice start:\", a.start)\n",
    "print(\"slice stop:\", a.stop)\n",
    "print(\"slice step:\", a.step)\n",
    "\n",
    "s = \"HelloWorld\"\n",
    "print(a.indices(len(s)))\n",
    "\n",
    "for i in range(*a.indices(len(s))):\n",
    "    print(s[i])"
   ]
  },
  {
   "source": [
    "## 1.12 Determining the Most Frequently Occurring Items in a Sequence\n",
    "\n",
    "The **collections.Counter** class is designed for just such a problem. It even comes with a handy most_common() method that will give you the answer."
   ],
   "cell_type": "markdown",
   "metadata": {}
  },
  {
   "cell_type": "code",
   "execution_count": 75,
   "metadata": {},
   "outputs": [
    {
     "output_type": "stream",
     "name": "stdout",
     "text": [
      "top three fequently word: [('eyes', 8), ('the', 5), ('look', 4)]\ncount 'not':  1\ncount 'eyes':  8\n"
     ]
    }
   ],
   "source": [
    "words = [\n",
    "    'look', 'into', 'my', 'eyes', 'look', 'into', 'my', 'eyes', 'the', 'eyes', 'the', 'eyes', 'the', 'eyes', 'not', 'around', 'the', 'eyes', \"don't\", 'look', 'around', 'the', 'eyes', 'look', 'into', 'my', 'eyes', \"you're\", 'under'\n",
    "]\n",
    "\n",
    "from collections import Counter\n",
    "\n",
    "word_counts = Counter(words)\n",
    "top_three = word_counts.most_common(3)\n",
    "print(\"top three fequently word:\", top_three)\n",
    "\n",
    "print(\"count 'not': \", word_counts['not'])\n",
    "print(\"count 'eyes': \", word_counts['eyes'])"
   ]
  },
  {
   "cell_type": "code",
   "execution_count": 81,
   "metadata": {},
   "outputs": [
    {
     "output_type": "stream",
     "name": "stdout",
     "text": [
      "Counter word: Counter({'eyes': 8, 'the': 5, 'look': 4, 'into': 3, 'my': 3, 'around': 2, 'not': 1, \"don't\": 1, \"you're\": 1, 'under': 1})\nCounter more newword: Counter({'why': 1, 'are': 1, 'you': 1, 'not': 1, 'looking': 1, 'in': 1, 'my': 1, 'eyes': 1})\ncombine counts: Counter({'eyes': 9, 'the': 5, 'look': 4, 'my': 4, 'into': 3, 'not': 2, 'around': 2, \"don't\": 1, \"you're\": 1, 'under': 1, 'why': 1, 'are': 1, 'you': 1, 'looking': 1, 'in': 1})\nsubtract counts: Counter({'eyes': 7, 'the': 5, 'look': 4, 'into': 3, 'my': 2, 'around': 2, \"don't\": 1, \"you're\": 1, 'under': 1})\n"
     ]
    }
   ],
   "source": [
    "morewords = ['why','are','you','not','looking','in','my','eyes']\n",
    "a = Counter(words)\n",
    "print(\"Counter word:\", a)\n",
    "\n",
    "b = Counter(morewords)\n",
    "print(\"Counter more newword:\", b)\n",
    "\n",
    "c = a + b \n",
    "print(\"combine counts:\", c)\n",
    "\n",
    "d = a - b\n",
    "print(\"subtract counts:\", d)"
   ]
  },
  {
   "source": [
    "## 1.13 Sorting a List of Dictionaries by a Common Key\n",
    "Sorting this type of structure is easy using the **operator module's itemgetter function**. \n"
   ],
   "cell_type": "markdown",
   "metadata": {}
  },
  {
   "cell_type": "code",
   "execution_count": 8,
   "metadata": {},
   "outputs": [
    {
     "output_type": "stream",
     "name": "stdout",
     "text": [
      "sorted by fname: [{'fname': 'Big', 'lname': 'Jones', 'uid': 1004}, {'fname': 'Brian', 'lname': 'Jones', 'uid': 1003}, {'fname': 'David', 'lname': 'Beazley', 'uid': 1002}, {'fname': 'John', 'lname': 'Cleese', 'uid': 1001}]\nsorted by uid: [{'fname': 'John', 'lname': 'Cleese', 'uid': 1001}, {'fname': 'David', 'lname': 'Beazley', 'uid': 1002}, {'fname': 'Brian', 'lname': 'Jones', 'uid': 1003}, {'fname': 'Big', 'lname': 'Jones', 'uid': 1004}]\nsorted by lastname and firstname: [{'fname': 'David', 'lname': 'Beazley', 'uid': 1002}, {'fname': 'John', 'lname': 'Cleese', 'uid': 1001}, {'fname': 'Big', 'lname': 'Jones', 'uid': 1004}, {'fname': 'Brian', 'lname': 'Jones', 'uid': 1003}]\n{'fname': 'John', 'lname': 'Cleese', 'uid': 1001}\n{'fname': 'Big', 'lname': 'Jones', 'uid': 1004}\n"
     ]
    }
   ],
   "source": [
    "\n",
    "rows = [\n",
    "    {'fname': 'Brian', 'lname': 'Jones', 'uid': 1003},\n",
    "    {'fname': 'David', 'lname': 'Beazley', 'uid': 1002},\n",
    "    {'fname': 'John', 'lname': 'Cleese', 'uid': 1001},\n",
    "    {'fname': 'Big', 'lname': 'Jones', 'uid': 1004}\n",
    "]\n",
    "\n",
    "from operator import itemgetter\n",
    "\n",
    "rows_by_fname = sorted(rows, key=itemgetter('fname'))\n",
    "rows_by_uid = sorted(rows, key=itemgetter('uid'))\n",
    "\n",
    "print(\"sorted by fname:\", rows_by_fname)\n",
    "print(\"sorted by uid:\", rows_by_uid)\n",
    "\n",
    "rows_by_lfname = sorted(rows, key=itemgetter('lname', 'fname'))\n",
    "print(\"sorted by lastname and firstname:\", rows_by_lfname)\n",
    "\n",
    "## less performance\n",
    "rows_by_fname_lambda = sorted(rows,key=lambda r: r['fname'])\n",
    "rows_by_lfname_lambda = sorted(rows,key=lambda r: (r['lname'],r['fname']))\n",
    "\n",
    "print(min(rows, key=itemgetter('uid')))\n",
    "print(max(rows, key=itemgetter('uid')))"
   ]
  },
  {
   "source": [
    "## 1.14 Sorting Objects Without Native Comparison Support\n",
    "The built-in sorted() function takes a key argument that can be passed a callable that will return some value in the object that sorted will use to compare the objects.\n"
   ],
   "cell_type": "markdown",
   "metadata": {}
  },
  {
   "cell_type": "code",
   "execution_count": 11,
   "metadata": {},
   "outputs": [
    {
     "output_type": "stream",
     "name": "stdout",
     "text": [
      "[User(23), User(3), User(99)]\nsorted use lambda:  [User(3), User(23), User(99)]\nsorted use attrgetter:  [User(3), User(23), User(99)]\n"
     ]
    }
   ],
   "source": [
    "class User:\n",
    "    def __init__(self,user_id):\n",
    "        self.user_id = user_id\n",
    "    \n",
    "    def __repr__(self):\n",
    "        return 'User({})'.format(self.user_id)\n",
    "\n",
    "users = [User(23), User(3), User(99)]\n",
    "print(users)\n",
    "\n",
    "print(\"sorted use lambda: \" ,sorted(users, key=lambda u: u.user_id))\n",
    "\n",
    "## often a tad bit faster and also has the added feature of allowing multiple fields to be extracted simultaneously\n",
    "from operator import attrgetter\n",
    "print(\"sorted use attrgetter: \", sorted(users, key=attrgetter('user_id')))"
   ]
  },
  {
   "cell_type": "code",
   "execution_count": 17,
   "metadata": {},
   "outputs": [
    {
     "output_type": "stream",
     "name": "stdout",
     "text": [
      "[User(23,David,Beazley), User(3,John,Cleese), User(99,Big,Jones)]\nsort by last name and first name:  [User(23,David,Beazley), User(3,John,Cleese), User(99,Big,Jones)]\nUser(3,John,Cleese)\nUser(99,Big,Jones)\n"
     ]
    }
   ],
   "source": [
    "class User:\n",
    "    def __init__(self,user_id, first_name,last_name):\n",
    "        self.user_id = user_id\n",
    "        self.first_name = first_name\n",
    "        self.last_name = last_name\n",
    "\n",
    "    \n",
    "    def __repr__(self):\n",
    "        return 'User({},{},{})'.format(self.user_id, self.first_name,self.last_name)\n",
    "\n",
    "users = [User(23, 'David', 'Beazley'), User(3, 'John', 'Cleese'), User(99, 'Big', 'Jones')]\n",
    "print(users)\n",
    "\n",
    "by_name = sorted(users, key=attrgetter('last_name','first_name'))\n",
    "print('sort by last name and first name: ', by_name)\n",
    "\n",
    "print(min(users, key=attrgetter('user_id')))\n",
    "print(max(users, key=attrgetter('user_id')))"
   ]
  },
  {
   "source": [
    "## 1.15 Grouping Records Together based on a Field\n",
    "The **itertools.groupby()** function is particularly useful for grouping data together like this.\n"
   ],
   "cell_type": "markdown",
   "metadata": {}
  },
  {
   "cell_type": "code",
   "execution_count": 22,
   "metadata": {},
   "outputs": [
    {
     "output_type": "stream",
     "name": "stdout",
     "text": [
      "07/01/2012\n    {'address': '5412 N CLARK', 'date': '07/01/2012'}\n    {'address': '4801 N BROADWAY', 'date': '07/01/2012'}\n07/02/2012\n    {'address': '5800 E 58TH', 'date': '07/02/2012'}\n    {'address': '5645 N RAVENSWOOD', 'date': '07/02/2012'}\n    {'address': '1060 W ADDISON', 'date': '07/02/2012'}\n07/03/2012\n    {'address': '2122 N CLARK', 'date': '07/03/2012'}\n07/04/2012\n    {'address': '5148 N CLARK', 'date': '07/04/2012'}\n    {'address': '1039 W GRANVILLE', 'date': '07/04/2012'}\n{'address': '5412 N CLARK', 'date': '07/01/2012'}\n{'address': '4801 N BROADWAY', 'date': '07/01/2012'}\n"
     ]
    }
   ],
   "source": [
    " rows = [\n",
    "        {'address': '5412 N CLARK', 'date': '07/01/2012'},\n",
    "        {'address': '5148 N CLARK', 'date': '07/04/2012'},\n",
    "        {'address': '5800 E 58TH', 'date': '07/02/2012'},\n",
    "        {'address': '2122 N CLARK', 'date': '07/03/2012'},\n",
    "        {'address': '5645 N RAVENSWOOD', 'date': '07/02/2012'},\n",
    "        {'address': '1060 W ADDISON', 'date': '07/02/2012'},\n",
    "        {'address': '4801 N BROADWAY', 'date': '07/01/2012'},\n",
    "        {'address': '1039 W GRANVILLE', 'date': '07/04/2012'},\n",
    "]\n",
    "\n",
    "from operator import itemgetter\n",
    "from itertools import groupby\n",
    "\n",
    "# Sort by the desired field first\n",
    "rows.sort(key=itemgetter('date'))\n",
    "\n",
    "# Iterate in group\n",
    "for date, items in groupby(rows, key=itemgetter('date')):\n",
    "    print(date)\n",
    "    for i in items:\n",
    "        print('   ', i)\n",
    "\n",
    "from collections import defaultdict\n",
    "rows_by_date = defaultdict(list)\n",
    "for row in rows: \n",
    "    rows_by_date[row['date']].append(row)\n",
    "\n",
    "for item in rows_by_date['07/01/2012']:\n",
    "    print(item)\n"
   ]
  },
  {
   "source": [
    "## 1. 16 Filtering Sequence Elements\n",
    "The easiest way to filter sequence data is often to use a list comprehension.\n"
   ],
   "cell_type": "markdown",
   "metadata": {}
  },
  {
   "cell_type": "code",
   "execution_count": 24,
   "metadata": {},
   "outputs": [
    {
     "output_type": "stream",
     "name": "stdout",
     "text": [
      ">0: [1, 4, 10, 2, 3]\n<0: [-5, -7, -1]\n"
     ]
    }
   ],
   "source": [
    "mylist = [1, 4, -5, 10, -7, 2, 3, -1]\n",
    "print(\">0:\",[n for n in mylist if n > 0])\n",
    "print(\"<0:\",[n for n in mylist if n < 0])\n",
    "\n",
    "pos = (n for n in mylist if n > 0)\n"
   ]
  },
  {
   "cell_type": "code",
   "execution_count": 26,
   "metadata": {},
   "outputs": [
    {
     "output_type": "stream",
     "name": "stdout",
     "text": [
      "['1', '2', '-3', '4', '5']\n"
     ]
    }
   ],
   "source": [
    "values = ['1', '2', '-3', '-', '4', 'N/A', '5']\n",
    "\n",
    "def is_int(val):\n",
    "    try:\n",
    "        x = int(val)\n",
    "        return True\n",
    "    except ValueError:\n",
    "        return False\n",
    "\n",
    "ivals = list(filter(is_int, values))\n",
    "print(ivals)"
   ]
  },
  {
   "cell_type": "code",
   "execution_count": 29,
   "metadata": {},
   "outputs": [
    {
     "output_type": "stream",
     "name": "stdout",
     "text": [
      "[1, 4, 0, 10, 0, 2, 3, 0]\n[0, 0, -5, 0, -7, 0, 0, -1]\n"
     ]
    }
   ],
   "source": [
    "# List comprehensions and generator expressions are often the easiest and most straight‐ forward # ways to filter simple data.\n",
    "\n",
    "mylist = [1, 4, -5, 10, -7, 2, 3, -1]\n",
    "import math\n",
    "[math.sqrt(n) for n in mylist if n > 0]\n",
    "\n",
    "print([n if n > 0 else 0 for n in mylist])\n",
    "\n",
    "print([n if n < 0 else 0 for n in mylist])\n"
   ]
  },
  {
   "cell_type": "code",
   "execution_count": 2,
   "metadata": {},
   "outputs": [
    {
     "output_type": "stream",
     "name": "stdout",
     "text": [
      "[False, False, True, False, False, True, True, False]\n['5800 E 58TH', '1060 W ADDISON', '4801 N BROADWAY']\n"
     ]
    }
   ],
   "source": [
    "# Another notable filtering tool is itertools.compress(), which takes an iterable and an accompanying Boolean selector sequence as input. \n",
    "\n",
    "addresses = [\n",
    "    'S412 N CLARK',\n",
    "    '5148 N CLARK',\n",
    "    '5800 E 58TH',\n",
    "    '2122 N CLARK',\n",
    "    '5645 N RAVENSWOOD',\n",
    "    '1060 W ADDISON',\n",
    "    '4801 N BROADWAY',\n",
    "    '1039 W GRANVILLE'\n",
    "]\n",
    "counts = [0, 3, 10, 4, 1, 7, 6, 1]\n",
    "\n",
    "from itertools import compress\n",
    "\n",
    "more5 = [n > 5 for n in counts]\n",
    "print(more5)\n",
    "\n",
    "print(list(compress(addresses, more5)))"
   ]
  },
  {
   "source": [
    "## 1.17 Extracting a Subset of a Dictionary\n",
    "This is easily accomplished using a dictionary comprehension. "
   ],
   "cell_type": "markdown",
   "metadata": {}
  },
  {
   "cell_type": "code",
   "execution_count": 6,
   "metadata": {},
   "outputs": [
    {
     "output_type": "stream",
     "name": "stdout",
     "text": [
      "list price > 200:  {'AAPL': 612.78, 'IBM': 205.55}\nlist price > 200 same:  {'AAPL': 612.78, 'IBM': 205.55}\nall keys in tech stocks list:  {'AAPL': 612.78, 'IBM': 205.55, 'HPQ': 37.2}\nall keys in tech stocks list:  {'IBM': 205.55, 'AAPL': 612.78, 'HPQ': 37.2}\n"
     ]
    }
   ],
   "source": [
    "prices = {\n",
    "       'ACME': 45.23,\n",
    "       'AAPL': 612.78,\n",
    "       'IBM': 205.55,\n",
    "       'HPQ': 37.20,\n",
    "       'FB': 10.75\n",
    "}\n",
    "# Make a dictionary of all prices over 200\n",
    "p1 = {key:value for key, value in prices.items() if value > 200}\n",
    "print(\"list price > 200: \", p1)\n",
    "\n",
    "# Another solution\n",
    "p1_same = dict((key, value) for key, value in prices.items() if value > 200)\n",
    "print(\"list price > 200 same: \", p1_same)\n",
    "\n",
    "# Make a dictionary of tech stocks\n",
    "tech_name = {'AAPL', 'IBM', 'HPQ', 'MSFT'}\n",
    "p2 = {key:value for key, value in prices.items() if key in tech_name}\n",
    "print(\"all keys in tech stocks list: \", p2)\n",
    "\n",
    "# Another solution\n",
    "p2_same = {key:prices[key] for key in prices.keys() & tech_name}\n",
    "print(\"all keys in tech stocks list: \", p2_same)"
   ]
  },
  {
   "source": [
    "## 1.18 Mapping Names to Sequence Elements\n",
    "\n",
    "**collections.namedtuple()** provides these benefits, while adding minimal overhead over using a normal tuple object. collections.namedtuple() is actually a factory method that returns a subclass of the standard Python tuple type. "
   ],
   "cell_type": "markdown",
   "metadata": {}
  },
  {
   "cell_type": "code",
   "execution_count": 13,
   "metadata": {},
   "outputs": [
    {
     "output_type": "stream",
     "name": "stdout",
     "text": [
      "Subscriber(addr='jonesy@example.com', joined='2012-10-19')\naddress: jonesy@example.com\njoined: 2012-10-19\nStock(name='ACME', shares=100, price=123.45, date=None, time=None)\nStock(name='ACME', shares=100, price=123.45, date='12/17/2012', time=None)\n"
     ]
    }
   ],
   "source": [
    "from collections import namedtuple\n",
    "\n",
    "Subscriber = namedtuple('Subscriber', ['addr', 'joined'])\n",
    "sub = Subscriber('jonesy@example.com', '2012-10-19')\n",
    "print(sub)\n",
    "print(\"address:\",sub.addr)\n",
    "print(\"joined:\", sub.joined)\n",
    "\n",
    "#Thus, if you are building large data structures involving dictionaries, use of a namedtuple will be more efficient. However, be aware that unlike a dictionary, a namedtuple is immutable.\n",
    "\n",
    "Stock = namedtuple('Stock',['name','shares','price', 'date', 'time'])\n",
    "\n",
    "# Create a prototype instance\n",
    "stock_prototype = Stock('', 0, 0.0, None, None)\n",
    "\n",
    "# Function to convert a dictionary to a Stock\n",
    "def dict_to_stock(s):\n",
    "    return stock_prototype._replace(**s)\n",
    "\n",
    "a = {'name': 'ACME', 'shares': 100, 'price': 123.45}\n",
    "print(dict_to_stock(a))\n",
    "\n",
    "b = {'name': 'ACME', 'shares': 100, 'price': 123.45, 'date': '12/17/2012'}\n",
    "print(dict_to_stock(b))"
   ]
  },
  {
   "source": [
    "## 1.19 Transforming and Reducing Data at the Same Time\n",
    "A very elegant way to combine a data reduction and a transformation is to use a generator-expression argument."
   ],
   "cell_type": "markdown",
   "metadata": {}
  },
  {
   "cell_type": "code",
   "execution_count": 15,
   "metadata": {},
   "outputs": [
    {
     "output_type": "stream",
     "name": "stdout",
     "text": [
      "sum of squares: 55\n"
     ]
    }
   ],
   "source": [
    "nums = [1, 2, 3, 4, 5]\n",
    "s = sum(x * x for x in nums)\n",
    "print(\"sum of squares:\", s)"
   ]
  },
  {
   "cell_type": "code",
   "execution_count": 20,
   "metadata": {},
   "outputs": [
    {
     "output_type": "stream",
     "name": "stdout",
     "text": [
      "ACME,50,123.45\nmin shares:  20\n"
     ]
    }
   ],
   "source": [
    "# Determine if any .py files exist in a directory\n",
    "# import os\n",
    "# files = os.listdir('dirname')\n",
    "# if any(name.endswith('.py') for name in files):\n",
    "#     print('There be python!')\n",
    "# else:\n",
    "#     print('Sorry, no python.')\n",
    "\n",
    "# Output a tuple as CSV\n",
    "s = ('ACME', 50, 123.45)\n",
    "print(','.join(str(x) for x in s))\n",
    "\n",
    "# Data reduction across fields of a data structure\n",
    "portfolio = [\n",
    "    {'name':'GooG', 'shares': 50},\n",
    "    {'name':'YHOO', 'shares': 75},\n",
    "    {'name':'AOL', 'shares': 20},\n",
    "    {'name':'SCOX', 'shares': 65}\n",
    "]\n",
    "min_shares = min(s['shares'] for s in portfolio)\n",
    "print(\"min shares: \", min_shares)\n",
    "\n",
    "# Original: Return 20\n",
    "min_shares = min(s['shares'] for s in portfolio)\n",
    "\n",
    "# Alternative: Returns {'name': 'AOL', 'shares': 20}\n",
    "min_shares = min(portfolio, key=lamdba s : s['shares'])"
   ]
  },
  {
   "cell_type": "code",
   "execution_count": 26,
   "metadata": {},
   "outputs": [
    {
     "output_type": "stream",
     "name": "stdout",
     "text": [
      "1\n2\n3\n3\n['y', 'z', 'x']\n[2, 3, 1]\n{'z': 10, 'w': 40}\n"
     ]
    }
   ],
   "source": [
    "# 1.20 Combining Multiple Mappings into a Single Mapping\n",
    "\n",
    "a = {'x' : 1 , 'z': 3}\n",
    "b = {'y': 2, 'z': 4}\n",
    "\n",
    "from collections import ChainMap\n",
    "c = ChainMap(a, b)\n",
    "print(c['x'])\n",
    "print(c['y'])\n",
    "print(c['z'])\n",
    "\n",
    "print(len(c))\n",
    "print(list(c.keys()))\n",
    "print(list(c.values()))\n",
    "\n",
    "c['z'] = 10\n",
    "c['w'] = 40\n",
    "del c['x']\n",
    "print(a)"
   ]
  },
  {
   "cell_type": "code",
   "execution_count": 28,
   "metadata": {},
   "outputs": [
    {
     "output_type": "stream",
     "name": "stdout",
     "text": [
      "ChainMap({'x': 3}, {'x': 2}, {'x': 1})\nChainMap({'x': 1})\n"
     ]
    }
   ],
   "source": [
    "values = ChainMap()\n",
    "values['x'] = 1\n",
    "# Add a new mapping\n",
    "values = values.new_child()\n",
    "values['x'] = 2\n",
    "# Add a new mapping\n",
    "values = values.new_child()\n",
    "values['x'] = 3\n",
    "\n",
    "print(values)\n",
    "\n",
    "# Discard last mapping\n",
    "values = values.parents\n",
    "values['x']\n",
    "\n",
    "# Discard last mapping\n",
    "values = values.parents\n",
    "values['x']\n",
    "\n",
    "print(values)"
   ]
  },
  {
   "cell_type": "code",
   "execution_count": 32,
   "metadata": {},
   "outputs": [
    {
     "output_type": "stream",
     "name": "stdout",
     "text": [
      "{'y': 2, 'z': 3, 'x': 1}\n1\n1\n42\n"
     ]
    }
   ],
   "source": [
    "a = {'x': 1, 'z': 3 }\n",
    "b = {'y': 2, 'z': 4 }\n",
    "\n",
    "merged = dict(b)\n",
    "merged.update(a)\n",
    "merged['x']\n",
    "merged['y']\n",
    "merged['z']\n",
    "\n",
    "print(merged)\n",
    "\n",
    "# merged won't change\n",
    "a['x'] = 13\n",
    "print(merged['x'])\n",
    "\n",
    "a = {'x': 1, 'z': 3 }\n",
    "b = {'y': 2, 'z': 4 }\n",
    "merged_map = ChainMap(a, b)\n",
    "print(merged_map['x'])\n",
    "\n",
    "a['x'] = 42\n",
    "print(merged_map['x']) # Notice change to merged dicts"
   ]
  },
  {
   "cell_type": "code",
   "execution_count": null,
   "metadata": {},
   "outputs": [],
   "source": []
  }
 ]
}