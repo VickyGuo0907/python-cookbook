{
 "metadata": {
  "language_info": {
   "codemirror_mode": {
    "name": "ipython",
    "version": 3
   },
   "file_extension": ".py",
   "mimetype": "text/x-python",
   "name": "python",
   "nbconvert_exporter": "python",
   "pygments_lexer": "ipython3",
   "version": "3.8.5-final"
  },
  "orig_nbformat": 2,
  "kernelspec": {
   "name": "python3",
   "display_name": "Python 3",
   "language": "python"
  }
 },
 "nbformat": 4,
 "nbformat_minor": 2,
 "cells": [
  {
   "source": [
    "# Chapter 3 Numbers, Dates, and Times\n",
    "\n",
    "Performing mathematical calculations with integers and floating-point numbers is easy in Python. However, if you need to perform calculations with fractions, arrays, or dates and times, a bit more work is required. The focus of this chapter is on such topics.\n",
    "\n",
    "## 3.1 Rounding Numberical Values\n",
    "\n",
    "For simple rounding, use the built-in round(value, ndigits) function."
   ],
   "cell_type": "markdown",
   "metadata": {}
  },
  {
   "cell_type": "code",
   "execution_count": 9,
   "metadata": {},
   "outputs": [
    {
     "output_type": "stream",
     "name": "stdout",
     "text": [
      "1.2\n1.3\n-1.3\n1.254\n1627730\n1627700\n1628000\n1.23\n1.235\nvalue is 1.235\n6.300000000000001\n6.3\n"
     ]
    }
   ],
   "source": [
    "print(round(1.23, 1))\n",
    "\n",
    "print(round(1.27, 1))\n",
    "\n",
    "print(round(-1.27, 1))\n",
    "\n",
    "print(round(1.25361, 3))\n",
    "\n",
    "a = 1627731\n",
    "print(round(a, -1))\n",
    "print(round(a, -2))\n",
    "print(round(a, -3))\n",
    "\n",
    "x = 1.23456\n",
    "print(format(x, '0.2f'))\n",
    "print(format(x, '0.3f'))\n",
    "print('value is {:0.3f}'.format(x))\n",
    "\n",
    "a = 2.1\n",
    "b = 4.2 \n",
    "c = a + b \n",
    "print(c)\n",
    "print(round(c, 2))"
   ]
  },
  {
   "source": [
    "## 3.2 Performing Accurate Decimal Calculations\n",
    "\n",
    "A well-known issue with floating-point numbers is that they can’t accurately represent all base-10 decimals. Moreover, even simple mathematical calculations introduce small errors."
   ],
   "cell_type": "markdown",
   "metadata": {}
  },
  {
   "cell_type": "code",
   "execution_count": 17,
   "metadata": {},
   "outputs": [
    {
     "output_type": "stream",
     "name": "stdout",
     "text": [
      "6.3\n"
     ]
    },
    {
     "output_type": "execute_result",
     "data": {
      "text/plain": [
       "True"
      ]
     },
     "metadata": {},
     "execution_count": 17
    }
   ],
   "source": [
    "from decimal import Decimal\n",
    "\n",
    "a = Decimal('4.2')\n",
    "b = Decimal('2.1')\n",
    "\n",
    "a + b\n",
    "print(a + b)\n",
    "(a + b) == Decimal('6.3')"
   ]
  },
  {
   "cell_type": "code",
   "execution_count": 19,
   "metadata": {},
   "outputs": [
    {
     "output_type": "stream",
     "name": "stdout",
     "text": [
      "0.7647058823529411764705882353\n0.765\n"
     ]
    }
   ],
   "source": [
    "from decimal import localcontext\n",
    "\n",
    "a = Decimal('1.3')\n",
    "b = Decimal('1.7')\n",
    "print(a/b)\n",
    "\n",
    "with localcontext() as ctx:\n",
    "    ctx.prec = 3\n",
    "    print(a / b)"
   ]
  },
  {
   "cell_type": "code",
   "execution_count": 20,
   "metadata": {},
   "outputs": [
    {
     "output_type": "execute_result",
     "data": {
      "text/plain": [
       "0.0"
      ]
     },
     "metadata": {},
     "execution_count": 20
    }
   ],
   "source": [
    "nums = [1.23e+18, 1, -1.23e+18]\n",
    "sum(nums)"
   ]
  },
  {
   "source": [
    "## 3.3 Formatting Numbers for Output\n",
    "\n",
    "To format a single number for output, use the built-in format() function."
   ],
   "cell_type": "markdown",
   "metadata": {}
  },
  {
   "cell_type": "code",
   "execution_count": 29,
   "metadata": {},
   "outputs": [
    {
     "output_type": "stream",
     "name": "stdout",
     "text": [
      "1234.57\n    1234.6\n1234.6    \n  1234.6  \n1,234.56789\n1,234.6\n1.234568e+03\n1.23E+03\nThe value is 1,234.57\n"
     ]
    }
   ],
   "source": [
    "x = 1234.56789\n",
    "\n",
    "# Two decimal places of accuracy\n",
    "print(format(x, '0.2f'))\n",
    "# Right justified in 10 chars, one-digit accuracy\n",
    "print(format(x, '>10.1f'))\n",
    "\n",
    "# Left justified\n",
    "print(format(x, '<10.1f'))\n",
    "\n",
    "# Centered\n",
    "print(format(x, '^10.1f'))\n",
    "\n",
    "# Inclusion of thousands separator\n",
    "print(format(x, ','))\n",
    "\n",
    "print(format(x, '0,.1f'))\n",
    "\n",
    "print(format(x, 'e'))\n",
    "\n",
    "print(format(x, '0.2E'))\n",
    "\n",
    "print('The value is {:0,.2f}'.format(x))"
   ]
  },
  {
   "source": [
    "## 3.4 Working with Binary, Octal, and Hexadecimal Integers\n",
    "\n",
    "To convert an integer into a binary, octal, or hexadecimal text string, use the **bin()**, **oct()**, or **hex()** functions, "
   ],
   "cell_type": "markdown",
   "metadata": {}
  },
  {
   "cell_type": "code",
   "execution_count": 33,
   "metadata": {},
   "outputs": [
    {
     "output_type": "stream",
     "name": "stdout",
     "text": [
      "0b10011010010\n10011010010\n0o2322\n2322\n0x4d2\n4d2\n"
     ]
    }
   ],
   "source": [
    "x = 1234\n",
    "\n",
    "print(bin(x))\n",
    "print(format(x, 'b'))\n",
    "\n",
    "print(oct(x))\n",
    "print(format(x, 'o'))\n",
    "\n",
    "print(hex(x))\n",
    "print(format(x, 'x'))"
   ]
  },
  {
   "cell_type": "code",
   "execution_count": null,
   "metadata": {},
   "outputs": [],
   "source": [
    "## 3.5 Packing and Unpacking Large Integers from "
   ]
  },
  {
   "cell_type": "code",
   "execution_count": 37,
   "metadata": {},
   "outputs": [
    {
     "output_type": "stream",
     "name": "stdout",
     "text": [
      "16\n69120565665751139577663547927094891008\n94522842520747284487117727783387188\nb'\\x00\\x124V\\x00x\\x90\\xab\\x00\\xcd\\xef\\x01\\x00#\\x004'\nb'4\\x00#\\x00\\x01\\xef\\xcd\\x00\\xab\\x90x\\x00V4\\x12\\x00'\n"
     ]
    }
   ],
   "source": [
    "data =b'\\x00\\x124V\\x00x\\x90\\xab\\x00\\xcd\\xef\\x01\\x00#\\x004'\n",
    "\n",
    "print(len(data))\n",
    "\n",
    "print(int.from_bytes(data, 'little'))\n",
    "\n",
    "print(int.from_bytes(data, 'big'))\n",
    "\n",
    "x = 94522842520747284487117727783387188\n",
    "\n",
    "print(x.to_bytes(16, 'big'))\n",
    "\n",
    "print(x.to_bytes(16, 'little'))"
   ]
  },
  {
   "source": [
    "## 3.6 Performing Complex-Valued Math\n",
    "\n",
    "Complex numbers can be specified using the **complex(real, imag)** function or by floating-point numbers with a j suffix."
   ],
   "cell_type": "markdown",
   "metadata": {}
  },
  {
   "cell_type": "code",
   "execution_count": 43,
   "metadata": {},
   "outputs": [
    {
     "output_type": "stream",
     "name": "stdout",
     "text": [
      "(2+4j)\n(3-5j)\n2.0\n4.0\n(2-4j)\n(5-1j)\n(26+2j)\n(-0.4117647058823529+0.6470588235294118j)\n4.47213595499958\n"
     ]
    }
   ],
   "source": [
    "a = complex(2, 4)\n",
    "b = 3 - 5j\n",
    "print(a)\n",
    "print(b)\n",
    "\n",
    "print(a.real)\n",
    "print(a.imag)\n",
    "print(a.conjugate())\n",
    "print(a + b)\n",
    "print(a * b)\n",
    "print(a / b)\n",
    "print(abs(a))"
   ]
  },
  {
   "cell_type": "code",
   "execution_count": 49,
   "metadata": {},
   "outputs": [
    {
     "output_type": "stream",
     "name": "stdout",
     "text": [
      "[2.+3.j 4.+5.j 6.-7.j 8.+9.j]\n[ 4.+3.j  6.+5.j  8.-7.j 10.+9.j]\n[   9.15449915  -4.16890696j  -56.16227422 -48.50245524j\n -153.20827755-526.47684926j 4008.42651446-589.49948373j]\n"
     ]
    },
    {
     "output_type": "execute_result",
     "data": {
      "text/plain": [
       "1j"
      ]
     },
     "metadata": {},
     "execution_count": 49
    }
   ],
   "source": [
    "import numpy as np\n",
    "a = np.array([2 + 3j, 4 + 5j, 6 - 7j, 8 +9j])\n",
    "print(a)\n",
    "\n",
    "print(a + 2)\n",
    "print(np.sin(a))\n",
    "\n",
    "import cmath\n",
    "cmath.sqrt(-1)"
   ]
  },
  {
   "source": [
    "## 3.7 Working with Infinity and NaNs\n",
    "\n",
    "Python has no special syntax to represent these special floating-point values, but they can be created using **float()**. "
   ],
   "cell_type": "markdown",
   "metadata": {}
  },
  {
   "cell_type": "code",
   "execution_count": 62,
   "metadata": {},
   "outputs": [
    {
     "output_type": "stream",
     "name": "stdout",
     "text": [
      "True\nTrue\ninf\ninf\n0.0\nnan\nnan\nnan\nnan\nnan\nnan\nFalse\nFalse\n"
     ]
    }
   ],
   "source": [
    "a = float('inf')\n",
    "b = float('-inf')\n",
    "c = float('nan')\n",
    "import math\n",
    "print(math.isinf(a))\n",
    "print(math.isnan(c))\n",
    "\n",
    "a = float('inf')\n",
    "print( a + 45)\n",
    "\n",
    "print( a * 10)\n",
    "\n",
    "print(10 / a)\n",
    "\n",
    "a = float('inf')\n",
    "print(a/a)\n",
    "\n",
    "b = float('-inf')\n",
    "print(a + b)\n",
    "\n",
    "c = float('nan')\n",
    "print(c + 23)\n",
    "print(c / 2)\n",
    "print(c * 2)\n",
    "print(math.sqrt(c))\n",
    "\n",
    "c = float('nan')\n",
    "d = float('nan')\n",
    "print(c == d)\n",
    "print( c is d)\n",
    "\n",
    "# Because of this, the only safe way to test for a NaN value is to use math.isnan(), as shown in this recipe."
   ]
  },
  {
   "source": [
    "## 3.8 Calculating with Fractions\n",
    "\n",
    "The fractions module can be used to perform mathematical calculations involving fractions.\n"
   ],
   "cell_type": "markdown",
   "metadata": {}
  },
  {
   "cell_type": "code",
   "execution_count": 67,
   "metadata": {},
   "outputs": [
    {
     "output_type": "stream",
     "name": "stdout",
     "text": [
      "27/16\n35/64\n35\n64\n0.546875\n4/7\n15/4\n"
     ]
    }
   ],
   "source": [
    "from fractions import Fraction\n",
    "a = Fraction(5, 4)\n",
    "b = Fraction(7, 16)\n",
    "print( a + b )\n",
    "print( a * b )\n",
    "\n",
    "# Getting numerator/denominator\n",
    "c = a * b \n",
    "print(c.numerator)\n",
    "print(c.denominator)\n",
    "\n",
    "# Converting to a float\n",
    "print(float(c))\n",
    "\n",
    "# Limiting the denominator of a value\n",
    "print(c.limit_denominator(8))\n",
    "\n",
    "# Converting a float to a fraction\n",
    "x = 3.75\n",
    "y = Fraction(*x.as_integer_ratio())\n",
    "print(y)"
   ]
  },
  {
   "source": [
    "## 3.9 Calculating with Large Numerical Arrays\n",
    "\n",
    "For any heavy computation involving arrays, use the **NumPy library**. The major feature of NumPy is that it gives Python an array object that is much more efficient and better suited for mathematical calculation than a standard Python list."
   ],
   "cell_type": "markdown",
   "metadata": {}
  },
  {
   "cell_type": "code",
   "execution_count": 13,
   "metadata": {},
   "outputs": [
    {
     "output_type": "stream",
     "name": "stdout",
     "text": [
      "[2 4 6 8]\n",
      "[11 12 13 14]\n",
      "[ 6  8 10 12]\n",
      "[ 5 12 21 32]\n",
      "[1.         1.41421356 1.73205081 2.        ]\n",
      "[ 0.54030231 -0.41614684 -0.9899925  -0.65364362]\n",
      "[[0. 0. 0. ... 0. 0. 0.]\n",
      " [0. 0. 0. ... 0. 0. 0.]\n",
      " [0. 0. 0. ... 0. 0. 0.]\n",
      " ...\n",
      " [0. 0. 0. ... 0. 0. 0.]\n",
      " [0. 0. 0. ... 0. 0. 0.]\n",
      " [0. 0. 0. ... 0. 0. 0.]]\n",
      "[[10. 10. 10. ... 10. 10. 10.]\n",
      " [10. 10. 10. ... 10. 10. 10.]\n",
      " [10. 10. 10. ... 10. 10. 10.]\n",
      " ...\n",
      " [10. 10. 10. ... 10. 10. 10.]\n",
      " [10. 10. 10. ... 10. 10. 10.]\n",
      " [10. 10. 10. ... 10. 10. 10.]]\n",
      "[[ 1  2  3  4]\n",
      " [ 5  6  7  8]\n",
      " [ 9 10 11 12]]\n",
      "[5 6 7 8]\n",
      "[ 2  6 10]\n",
      "[[ 6  7]\n",
      " [10 11]]\n",
      "[[ 1  2  3  4]\n",
      " [ 5 16 17  8]\n",
      " [ 9 20 21 12]]\n",
      "[[101 103 105 107]\n",
      " [105 117 119 111]\n",
      " [109 121 123 115]]\n",
      "[[ 1  2  3  4]\n",
      " [ 5 16 17  8]\n",
      " [ 9 20 21 12]]\n",
      "[[ 1  2  3  4]\n",
      " [ 5 10 10  8]\n",
      " [ 9 10 10 10]]\n"
     ]
    }
   ],
   "source": [
    "# Numpy arrays\n",
    "import numpy as np\n",
    "ax = np.array([1,2,3,4])\n",
    "ay = np.array([5,6,7,8])\n",
    "print(ax * 2)\n",
    "print(ax + 10)\n",
    "print(ax + ay)\n",
    "print(ax * ay)\n",
    "print(np.sqrt(ax))\n",
    "print(np.cos(ax))\n",
    "\n",
    "grid = np.zeros(shape=(10000,10000), dtype=float)\n",
    "print(grid)\n",
    "\n",
    "grid +=10\n",
    "print(grid)\n",
    "np.sin(grid)\n",
    "\n",
    "a = np.array([[1, 2, 3, 4], [5, 6, 7, 8], [9, 10, 11, 12]])\n",
    "print(a)\n",
    "# Select row 1 \n",
    "print(a[1])\n",
    "# Select column 1\n",
    "print(a[:,1])\n",
    "# Select a subregion and change it\n",
    "print(a[1:3, 1:3])\n",
    "a[1:3, 1:3] += 10\n",
    "print(a)\n",
    "\n",
    "# Broadcast a row vector across an operation on all rows\n",
    "print(a + [100, 101, 102, 103])\n",
    "print(a)\n",
    "\n",
    "# Conditional assignment on an array\n",
    "print(np.where(a < 10, a , 10))"
   ]
  },
  {
   "source": [
    "## 3.10 Performing Matrix and Linear Algebra Calculations\n",
    "\n",
    "The NumPy library has a **matrix** object that can be used for this purpose.\n"
   ],
   "cell_type": "markdown",
   "metadata": {}
  },
  {
   "cell_type": "code",
   "execution_count": 20,
   "metadata": {},
   "outputs": [
    {
     "output_type": "stream",
     "name": "stdout",
     "text": [
      "[[ 1 -2  3]\n [ 0  4  5]\n [ 7  8 -9]]\n[[ 1  0  7]\n [-2  4  8]\n [ 3  5 -9]]\n[[ 0.33043478 -0.02608696  0.09565217]\n [-0.15217391  0.13043478  0.02173913]\n [ 0.12173913  0.09565217 -0.0173913 ]]\n[[2]\n [3]\n [4]]\n[[ 8]\n [32]\n [ 2]]\n"
     ]
    }
   ],
   "source": [
    "import numpy as np\n",
    "m = np.matrix([[1, -2, 3], [0, 4, 5], [7, 8, -9]])\n",
    "print(m)\n",
    "\n",
    "# Return trasnpose\n",
    "print(m.T)\n",
    "\n",
    "# Return inverse\n",
    "print(m.I)\n",
    "\n",
    "# Create a vector and multiply\n",
    "v = np.matrix([[2],[3],[4]])\n",
    "print(v)\n",
    "print(m * v)"
   ]
  },
  {
   "cell_type": "code",
   "execution_count": 26,
   "metadata": {},
   "outputs": [
    {
     "output_type": "stream",
     "name": "stdout",
     "text": [
      "-229.99999999999983\n[-13.11474312   2.75956154   6.35518158]\n[[0.96521739]\n [0.17391304]\n [0.46086957]]\n[[2.]\n [3.]\n [4.]]\n[[2]\n [3]\n [4]]\n"
     ]
    }
   ],
   "source": [
    "import numpy.linalg\n",
    "\n",
    "# Determinate\n",
    "print(numpy.linalg.det(m))\n",
    "\n",
    "# Eigenvalues\n",
    "print(numpy.linalg.eigvals(m))\n",
    "\n",
    "# Solve for x in mx = v\n",
    "x = numpy.linalg.solve(m, v)\n",
    "print(x)\n",
    "\n",
    "print(m * x)\n",
    "print(v)"
   ]
  },
  {
   "cell_type": "code",
   "execution_count": null,
   "metadata": {},
   "outputs": [],
   "source": [
    "## 3.11 Picking Things at Random\n",
    "\n",
    "The random module has various functions for random numbers and picking random items."
   ]
  },
  {
   "cell_type": "code",
   "execution_count": 37,
   "metadata": {},
   "outputs": [
    {
     "output_type": "stream",
     "name": "stdout",
     "text": [
      "5\n4\n2\n1\n3\n[5, 6]\n[3, 6]\n[5, 4, 2]\n[2, 6, 1]\n[4, 3, 2, 1, 6, 5]\n[2, 4, 1, 3, 6, 5]\n7\n7\n6\n10\n4\n7\n0.5092692559251516\n0.9772591864107453\n0.06905536647130184\n40193541444406098870654615659440132759375199588479869950971\nNone\nNone\n"
     ]
    }
   ],
   "source": [
    "import random\n",
    "values = [1, 2, 3, 4, 5, 6]\n",
    "print(random.choice(values))\n",
    "print(random.choice(values))\n",
    "print(random.choice(values))\n",
    "print(random.choice(values))\n",
    "print(random.choice(values))\n",
    "\n",
    "print(random.sample(values, 2))\n",
    "print(random.sample(values, 2))\n",
    "print(random.sample(values, 3))\n",
    "print(random.sample(values, 3))\n",
    "\n",
    "random.shuffle(values)\n",
    "print(values)\n",
    "random.shuffle(values)\n",
    "print(values)\n",
    "\n",
    "print(random.randint(0,10))\n",
    "print(random.randint(0,10))\n",
    "print(random.randint(0,10))\n",
    "print(random.randint(0,10))\n",
    "print(random.randint(0,10))\n",
    "print(random.randint(0,10))\n",
    "\n",
    "# To produce uniform floating-point values in the range 0 to 1, use random.random()\n",
    "print(random.random())\n",
    "print(random.random())\n",
    "print(random.random())\n",
    "\n",
    "print(random.getrandbits(200))\n"
   ]
  },
  {
   "source": [
    "## 3.12  Converting Days to Seconds, and Other Basic Time Conversions\n",
    "\n",
    "To perform conversions and arithmetic involving different units of time, use the **datetime** module."
   ],
   "cell_type": "markdown",
   "metadata": {}
  },
  {
   "cell_type": "code",
   "execution_count": 48,
   "metadata": {},
   "outputs": [
    {
     "output_type": "stream",
     "name": "stdout",
     "text": [
      "2\n37800\n10.5\n58.5\n2012-10-03 00:00:00\n89\n2021-01-27 16:48:50.229070\n2021-01-27 16:58:50.229070\n2 days, 0:00:00\n2\n1\n"
     ]
    }
   ],
   "source": [
    "from datetime import timedelta\n",
    "a = timedelta(days=2, hours=6)\n",
    "b = timedelta(hours=4.5)\n",
    "c = a + b\n",
    "print(c.days)\n",
    "print(c.seconds)\n",
    "print(c.seconds/3600)\n",
    "print(c.total_seconds()/3600)\n",
    "\n",
    "from datetime import datetime\n",
    "a = datetime(2012, 9, 23)\n",
    "print(a + timedelta(days=10))\n",
    "\n",
    "b = datetime(2012, 12, 21)\n",
    "d = b - a\n",
    "print(d.days)\n",
    "\n",
    "now = datetime.today()\n",
    "print(now)\n",
    "\n",
    "print(now + timedelta(minutes=10))\n",
    "a = datetime(2012, 3, 1)\n",
    "b = datetime(2012, 2, 28)\n",
    "print(a - b)\n",
    "print((a - b).days)\n",
    "\n",
    "c = datetime(2013, 3, 1)\n",
    "d = datetime(2013, 2, 28)\n",
    "print((c - d).days)"
   ]
  },
  {
   "cell_type": "code",
   "execution_count": 57,
   "metadata": {},
   "outputs": [
    {
     "output_type": "stream",
     "name": "stdout",
     "text": [
      "2012-10-23 00:00:00\n2013-01-23 00:00:00\n89 days, 0:00:00\nrelativedelta(months=+2, days=+28)\n2\n28\n"
     ]
    }
   ],
   "source": [
    "from dateutil.relativedelta import relativedelta\n",
    "a = datetime(2012, 9, 23)\n",
    "print( a + relativedelta(months=+1))\n",
    "print( a + relativedelta(months=+4))\n",
    "\n",
    "# Time between two dates\n",
    "b = datetime(2012, 12, 21)\n",
    "d = b - a\n",
    "print(d)\n",
    "\n",
    "d = relativedelta(b, a)\n",
    "print(d)\n",
    "print(d.months)\n",
    "print(d.days)"
   ]
  },
  {
   "source": [
    "## 3.13 Determining Last Friday's Date\n",
    "\n",
    "Python’s **datetime** module has utility functions and classes to help perform calculations like this."
   ],
   "cell_type": "code",
   "metadata": {},
   "execution_count": null,
   "outputs": []
  },
  {
   "cell_type": "code",
   "execution_count": 62,
   "metadata": {},
   "outputs": [
    {
     "output_type": "stream",
     "name": "stdout",
     "text": [
      "2021-01-27 17:07:42.620856\n2021-01-25 17:07:42.621137\n2021-01-26 17:07:42.621216\n2021-01-22 17:07:42.621280\n2012-12-16 00:00:00\n"
     ]
    }
   ],
   "source": [
    "from datetime import datetime, timedelta\n",
    "\n",
    "weekdays = ['Monday', 'Tuesday', 'Wednesday', 'Thursday',\n",
    "                'Friday', 'Saturday', 'Sunday']\n",
    "\n",
    "def get_previous_byday(dayname, start_date=None): \n",
    "    if start_date is None:\n",
    "        start_date = datetime.today()\n",
    "    day_num = start_date.weekday()\n",
    "    day_num_target = weekdays.index(dayname) \n",
    "    days_ago = (7 + day_num - day_num_target) % 7 \n",
    "    if days_ago == 0:\n",
    "        days_ago = 7\n",
    "    target_date = start_date - timedelta(days=days_ago) \n",
    "    return target_date\n",
    "\n",
    "print(datetime.today()) # For reference\n",
    "\n",
    "print(get_previous_byday('Monday'))\n",
    "print(get_previous_byday('Tuesday')) # Previous week, not today\n",
    "print(get_previous_byday('Friday'))\n",
    "print(get_previous_byday('Sunday', datetime(2012, 12, 21)))"
   ]
  },
  {
   "cell_type": "code",
   "execution_count": 64,
   "metadata": {},
   "outputs": [
    {
     "output_type": "stream",
     "name": "stdout",
     "text": [
      "2021-01-27 17:13:11.619938\n2021-01-29 17:13:11.619938\n2021-01-22 17:13:11.619938\n"
     ]
    }
   ],
   "source": [
    "from datetime import datetime\n",
    "from dateutil.relativedelta import relativedelta\n",
    "from dateutil.rrule import * \n",
    "d = datetime.now()\n",
    "print(d)\n",
    "\n",
    "# Next Friday\n",
    "print(d + relativedelta(weekday=FR))\n",
    "\n",
    "# Last Friday\n",
    "print(d + relativedelta(weekday=FR(-1)))"
   ]
  },
  {
   "source": [
    "## 3.14 Finding the Date Range for the Current Month\n"
   ],
   "cell_type": "markdown",
   "metadata": {}
  },
  {
   "cell_type": "code",
   "execution_count": 5,
   "metadata": {},
   "outputs": [
    {
     "output_type": "stream",
     "name": "stdout",
     "text": [
      "2012-09-01 00:00:00\n2012-09-01 06:00:00\n2012-09-01 12:00:00\n2012-09-01 18:00:00\n2012-09-02 00:00:00\n2012-09-02 06:00:00\n2012-09-02 12:00:00\n2012-09-02 18:00:00\n2012-09-03 00:00:00\n2012-09-03 06:00:00\n2012-09-03 12:00:00\n2012-09-03 18:00:00\n2012-09-04 00:00:00\n2012-09-04 06:00:00\n2012-09-04 12:00:00\n2012-09-04 18:00:00\n2012-09-05 00:00:00\n2012-09-05 06:00:00\n2012-09-05 12:00:00\n2012-09-05 18:00:00\n2012-09-06 00:00:00\n2012-09-06 06:00:00\n2012-09-06 12:00:00\n2012-09-06 18:00:00\n2012-09-07 00:00:00\n2012-09-07 06:00:00\n2012-09-07 12:00:00\n2012-09-07 18:00:00\n2012-09-08 00:00:00\n2012-09-08 06:00:00\n2012-09-08 12:00:00\n2012-09-08 18:00:00\n2012-09-09 00:00:00\n2012-09-09 06:00:00\n2012-09-09 12:00:00\n2012-09-09 18:00:00\n2012-09-10 00:00:00\n2012-09-10 06:00:00\n2012-09-10 12:00:00\n2012-09-10 18:00:00\n2012-09-11 00:00:00\n2012-09-11 06:00:00\n2012-09-11 12:00:00\n2012-09-11 18:00:00\n2012-09-12 00:00:00\n2012-09-12 06:00:00\n2012-09-12 12:00:00\n2012-09-12 18:00:00\n2012-09-13 00:00:00\n2012-09-13 06:00:00\n2012-09-13 12:00:00\n2012-09-13 18:00:00\n2012-09-14 00:00:00\n2012-09-14 06:00:00\n2012-09-14 12:00:00\n2012-09-14 18:00:00\n2012-09-15 00:00:00\n2012-09-15 06:00:00\n2012-09-15 12:00:00\n2012-09-15 18:00:00\n2012-09-16 00:00:00\n2012-09-16 06:00:00\n2012-09-16 12:00:00\n2012-09-16 18:00:00\n2012-09-17 00:00:00\n2012-09-17 06:00:00\n2012-09-17 12:00:00\n2012-09-17 18:00:00\n2012-09-18 00:00:00\n2012-09-18 06:00:00\n2012-09-18 12:00:00\n2012-09-18 18:00:00\n2012-09-19 00:00:00\n2012-09-19 06:00:00\n2012-09-19 12:00:00\n2012-09-19 18:00:00\n2012-09-20 00:00:00\n2012-09-20 06:00:00\n2012-09-20 12:00:00\n2012-09-20 18:00:00\n2012-09-21 00:00:00\n2012-09-21 06:00:00\n2012-09-21 12:00:00\n2012-09-21 18:00:00\n2012-09-22 00:00:00\n2012-09-22 06:00:00\n2012-09-22 12:00:00\n2012-09-22 18:00:00\n2012-09-23 00:00:00\n2012-09-23 06:00:00\n2012-09-23 12:00:00\n2012-09-23 18:00:00\n2012-09-24 00:00:00\n2012-09-24 06:00:00\n2012-09-24 12:00:00\n2012-09-24 18:00:00\n2012-09-25 00:00:00\n2012-09-25 06:00:00\n2012-09-25 12:00:00\n2012-09-25 18:00:00\n2012-09-26 00:00:00\n2012-09-26 06:00:00\n2012-09-26 12:00:00\n2012-09-26 18:00:00\n2012-09-27 00:00:00\n2012-09-27 06:00:00\n2012-09-27 12:00:00\n2012-09-27 18:00:00\n2012-09-28 00:00:00\n2012-09-28 06:00:00\n2012-09-28 12:00:00\n2012-09-28 18:00:00\n2012-09-29 00:00:00\n2012-09-29 06:00:00\n2012-09-29 12:00:00\n2012-09-29 18:00:00\n2012-09-30 00:00:00\n2012-09-30 06:00:00\n2012-09-30 12:00:00\n2012-09-30 18:00:00\n"
     ]
    }
   ],
   "source": [
    "from datetime import datetime, timedelta\n",
    "def date_range(start, stop, step): \n",
    "    while start < stop:\n",
    "        yield start \n",
    "        start += step\n",
    "\n",
    "for d in date_range(datetime(2012,9,1), datetime(2012,10,1), timedelta(hours=6)):\n",
    "    print(d)"
   ]
  },
  {
   "source": [
    "## 3.15 Converting Strings into Datetimes\n",
    "\n",
    "Python’s standard **datetime** module is typically the easy solution for this."
   ],
   "cell_type": "markdown",
   "metadata": {}
  },
  {
   "cell_type": "code",
   "execution_count": 9,
   "metadata": {},
   "outputs": [
    {
     "output_type": "stream",
     "name": "stdout",
     "text": [
      "3051 days, 19:33:12.959411\n2021-01-27 19:33:12.959411\nWednesday January 27, 2021\n"
     ]
    }
   ],
   "source": [
    "from datetime import datetime\n",
    "text = '2012-09-20'\n",
    "y = datetime.strptime(text, '%Y-%m-%d')\n",
    "z = datetime.now()\n",
    "diff = z - y\n",
    "print(diff)\n",
    "print(z)\n",
    "nice_z = datetime.strftime(z, '%A %B %d, %Y')\n",
    "print(nice_z)"
   ]
  },
  {
   "source": [
    "## 3.16 Manipulating Dates Involving Time Zones\n",
    "\n",
    "For almost any problem involving time zones, you should use the pytz module. This package provides the Olson time zone database, which is the de facto standard for time zone information found in many languages and operating systems."
   ],
   "cell_type": "markdown",
   "metadata": {}
  },
  {
   "cell_type": "code",
   "execution_count": 24,
   "metadata": {},
   "outputs": [
    {
     "output_type": "stream",
     "name": "stdout",
     "text": [
      "2012-12-21 09:30:00\nUS/Central:2012-12-21 09:30:00-06:00\nAsia/Kolkata:2012-12-21 21:00:00+05:30\n"
     ]
    }
   ],
   "source": [
    "from datetime import datetime\n",
    "from pytz import timezone\n",
    "\n",
    "d = datetime(2012, 12, 21, 9, 30, 0)\n",
    "print(d)\n",
    "\n",
    "# Localize the date for Chicago\n",
    "central = timezone('US/Central')\n",
    "loc_d = central.localize(d)\n",
    "print(\"US/Central:\" + str(loc_d))\n",
    "\n",
    "# Convert to Bangalore time\n",
    "bang_d = loc_d.astimezone(timezone('Asia/Kolkata'))\n",
    "print(\"Asia/Kolkata:\" + str(bang_d))"
   ]
  },
  {
   "cell_type": "code",
   "execution_count": 35,
   "metadata": {},
   "outputs": [
    {
     "output_type": "stream",
     "name": "stdout",
     "text": [
      "2013-03-10 01:45:00-06:00\n2013-03-10 03:15:00-05:00\n2013-03-10 07:45:00+00:00\n2013-03-10 03:15:00-05:00\n['Asia/Kolkata']\n"
     ]
    }
   ],
   "source": [
    "d = datetime(2013, 3, 10, 1, 45)\n",
    "loc_d = central.localize(d)\n",
    "print(loc_d)\n",
    "\n",
    "from datetime import timedelta\n",
    "later = central.normalize(loc_d + timedelta(minutes=30))\n",
    "print(later)\n",
    "\n",
    "import pytz\n",
    "\n",
    "utc_d = loc_d.astimezone(pytz.utc)\n",
    "print(utc_d)\n",
    "\n",
    "later_utc = utc_d + timedelta(minutes=30)\n",
    "print(later_utc.astimezone(central))\n",
    "print(pytz.country_timezones['IN'])"
   ]
  },
  {
   "cell_type": "code",
   "execution_count": null,
   "metadata": {},
   "outputs": [],
   "source": []
  }
 ]
}