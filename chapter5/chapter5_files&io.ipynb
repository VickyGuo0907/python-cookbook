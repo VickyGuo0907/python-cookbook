{
 "cells": [
  {
   "cell_type": "markdown",
   "metadata": {},
   "source": [
    "# Chapter 5 Files and I/O\n",
    "\n",
    "All programs need to perform input and output. This chapter covers common idioms for working with different kinds of files, including text and binary files, file encodings, and other related matters. Techniques for manipulating filenames and directories are also covered.\n",
    "\n",
    "## 5.1 Reading and Writing Text Data\n",
    "\n",
    "Use the **open()** function with mode rt to read a text file."
   ]
  },
  {
   "cell_type": "code",
   "execution_count": null,
   "metadata": {},
   "outputs": [],
   "source": [
    "# Read the entire file as a single string\n",
    "while open('somefile.txt', 'rt') as f: \n",
    "    data = f.read()\n",
    "\n",
    "# Iterate over the lines of the file\n",
    "while open('somefile.txt', 'rt') as f: \n",
    "    for line in f:\n",
    "        # process line\n",
    "        print(line)\n",
    "\n",
    "# Write chunks of text data\n",
    "with open('somefile.txt', 'wt') as f:\n",
    "    f.write(text1)\n",
    "    f.write(text2)\n",
    "\n",
    "# Redirected print statement\n",
    "with open('somefile.txt', 'wt') as f:\n",
    "    print(line1, file=f)\n",
    "    print(line2, file=f)\n",
    "\n"
   ]
  },
  {
   "cell_type": "markdown",
   "metadata": {},
   "source": [
    "## 5.2 Printing to a File\n",
    "Using the file keyword argment to **print()**\n"
   ]
  },
  {
   "cell_type": "code",
   "execution_count": null,
   "metadata": {},
   "outputs": [],
   "source": [
    "with open('somefile.txt', 'wt') as f:\n",
    "    print('Hello world', file = f)"
   ]
  },
  {
   "cell_type": "markdown",
   "metadata": {},
   "source": [
    "## 5.3 Printing with a Different Separator or Line Ending\n"
   ]
  },
  {
   "cell_type": "code",
   "execution_count": 1,
   "metadata": {},
   "outputs": [
    {
     "name": "stdout",
     "output_type": "stream",
     "text": [
      "ACME 50 91.5\n",
      "ACME,50,91.5\n",
      "ACME,50,91.5!!\n"
     ]
    }
   ],
   "source": [
    "print('ACME', 50, 91.5)\n",
    "print('ACME', 50, 91.5, sep=',')\n",
    "print('ACME', 50, 91.5, sep=',', end='!!\\n')"
   ]
  },
  {
   "cell_type": "code",
   "execution_count": 5,
   "metadata": {},
   "outputs": [
    {
     "name": "stdout",
     "output_type": "stream",
     "text": [
      "h,e,l,l,o, ,w,o,r,l,d\n",
      "ACME,50,91.5\n"
     ]
    }
   ],
   "source": [
    "# str.join() is only works with strings\n",
    "print(','.join(\"hello world\"))\n",
    "# print(','.join('ACME','50','91.5')) # won't work\n",
    "\n",
    "row = ('ACME', 50, 91.5)\n",
    "print(*row, sep=',')"
   ]
  },
  {
   "cell_type": "markdown",
   "metadata": {},
   "source": [
    "## 5.4 Reading and Writing Binary Data\n",
    "\n",
    "Use the open() function with mode rb or wb to read or write binary data. "
   ]
  },
  {
   "cell_type": "code",
   "execution_count": 6,
   "metadata": {},
   "outputs": [],
   "source": [
    "# Read the entire file as a single byte string\n",
    "with open('sample.txt','rb') as f:\n",
    "    data = f.read(16)\n",
    "    text = data.decode('utf-8')\n",
    "\n",
    "# Write binary data to a file\n",
    "with open('sample.txt','wb') as f:\n",
    "    text = 'Hello World'\n",
    "    f.write(text.encode('utf-8'))\n",
    "\n"
   ]
  },
  {
   "cell_type": "markdown",
   "metadata": {},
   "source": [
    "## 5.5. Writing to a File That Doesn't Already Exist\n",
    "\n",
    "You want to write data to a file , but only if it doesn't already exist on the filesystem."
   ]
  },
  {
   "cell_type": "code",
   "execution_count": 7,
   "metadata": {},
   "outputs": [],
   "source": [
    "# with open('somefile.txt', 'xt') as f:\n",
    "#     f.write('Hello again\\n')"
   ]
  },
  {
   "cell_type": "markdown",
   "metadata": {},
   "source": [
    "## 5.6 Performing I/O Operations on a String\n",
    "\n",
    "Use the io.StringIO() and io.BytesIO() classes to create file-like objects that operate on string data"
   ]
  },
  {
   "cell_type": "code",
   "execution_count": 11,
   "metadata": {},
   "outputs": [
    {
     "data": {
      "text/plain": [
       "'o\\nworld\\n'"
      ]
     },
     "execution_count": 11,
     "metadata": {},
     "output_type": "execute_result"
    }
   ],
   "source": [
    "# Importing the StringIO module.\n",
    "from io import StringIO \n",
    "\n",
    "s = StringIO()\n",
    "s.write('Hello World\\n')\n",
    "\n",
    "print('This is a test', file = s)\n",
    "\n",
    "# Get all of the data written so far\n",
    "s.getvalue()\n",
    "\n",
    "# Wrap a file interface around an existing string \n",
    "s = StringIO('Hello\\nworld\\n')\n",
    "s.read(4)\n",
    "\n",
    "s.read()"
   ]
  },
  {
   "cell_type": "markdown",
   "metadata": {},
   "source": [
    "The **StringIO** and **BytesIO** classes are most useful in scenarios where you need to mimic a normal file for some reason. For example, in unit tests, you might use StringIO to create a file-like object containing test data that's fed into a function that would otherwise work with a normal file."
   ]
  },
  {
   "cell_type": "markdown",
   "metadata": {},
   "source": [
    "## 5.7 Reading and Writing Compressed Datafiles\n",
    "\n",
    "You need to read or write data in a file with gzip or bz2 compression. The **gzip** and **bz2** modules make it easy to work with such files. "
   ]
  },
  {
   "cell_type": "code",
   "execution_count": null,
   "metadata": {},
   "outputs": [],
   "source": [
    "# gzip compression\n",
    "import gzip\n",
    "with gzip.open('somefile.gz', 'rt') as f:\n",
    "    text = f.read()\n",
    "\n",
    "# bz2 compression\n",
    "import bz2\n",
    "with bz2.open('somefile.bz2', 'rt') as f:\n",
    "    text = f.read()"
   ]
  },
  {
   "cell_type": "markdown",
   "metadata": {},
   "source": [
    "## 5.8 Iterating Over Fixed-Sized Records\n",
    "\n",
    "Instead of iterating over a file by lines, you want to iterate over a collection of fixed-sized records or chunks. Use the iter() function and functools.partial() using this near trick:\n",
    "\n",
    "```\n",
    "\n",
    "from functools import partial\n",
    "\n",
    "RECORD_SIZE = 32\n",
    "\n",
    "with open('somefile.data', 'rb') as f:\n",
    "    records = iter(partial(f.read, RECORD_SIZE), b'')\n",
    "    for r in records:\n",
    "        ....\n",
    "\n",
    "```"
   ]
  },
  {
   "cell_type": "code",
   "execution_count": null,
   "metadata": {},
   "outputs": [],
   "source": []
  },
  {
   "cell_type": "code",
   "execution_count": null,
   "metadata": {},
   "outputs": [],
   "source": []
  }
 ],
 "metadata": {
  "interpreter": {
   "hash": "cc93badfa05351fec96a1b0d4d7ca298729d0a6c489ca578e6b92d4376c6bff2"
  },
  "kernelspec": {
   "display_name": "Python 3.9.1 64-bit ('python-cookbook': conda)",
   "language": "python",
   "name": "python3"
  },
  "language_info": {
   "codemirror_mode": {
    "name": "ipython",
    "version": 3
   },
   "file_extension": ".py",
   "mimetype": "text/x-python",
   "name": "python",
   "nbconvert_exporter": "python",
   "pygments_lexer": "ipython3",
   "version": "3.9.1"
  },
  "orig_nbformat": 2
 },
 "nbformat": 4,
 "nbformat_minor": 2
}
